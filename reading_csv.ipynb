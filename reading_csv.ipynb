{
 "cells": [
  {
   "cell_type": "code",
   "execution_count": 1,
   "metadata": {
    "collapsed": true
   },
   "outputs": [],
   "source": [
    "import pandas as pd"
   ]
  },
  {
   "cell_type": "code",
   "execution_count": 4,
   "outputs": [
    {
     "data": {
      "text/plain": "                             0      1\n0    1974-01-02 08:00:00+02:00  12.59\n1    1974-01-03 08:00:00+02:00  11.92\n2    1974-01-04 08:00:00+02:00  10.25\n3    1974-01-05 08:00:00+02:00   7.05\n4    1974-01-06 08:00:00+02:00  17.57\n...                        ...    ...\n6535 2014-08-06 00:00:00+02:00  19.83\n6536 2014-08-07 00:00:00+02:00  18.04\n6537 2014-08-08 00:00:00+02:00  26.39\n6538 2014-08-09 00:00:00+02:00  27.15\n6539 2014-08-11 00:00:00+02:00   8.02\n\n[6540 rows x 2 columns]",
      "text/html": "<div>\n<style scoped>\n    .dataframe tbody tr th:only-of-type {\n        vertical-align: middle;\n    }\n\n    .dataframe tbody tr th {\n        vertical-align: top;\n    }\n\n    .dataframe thead th {\n        text-align: right;\n    }\n</style>\n<table border=\"1\" class=\"dataframe\">\n  <thead>\n    <tr style=\"text-align: right;\">\n      <th></th>\n      <th>0</th>\n      <th>1</th>\n    </tr>\n  </thead>\n  <tbody>\n    <tr>\n      <th>0</th>\n      <td>1974-01-02 08:00:00+02:00</td>\n      <td>12.59</td>\n    </tr>\n    <tr>\n      <th>1</th>\n      <td>1974-01-03 08:00:00+02:00</td>\n      <td>11.92</td>\n    </tr>\n    <tr>\n      <th>2</th>\n      <td>1974-01-04 08:00:00+02:00</td>\n      <td>10.25</td>\n    </tr>\n    <tr>\n      <th>3</th>\n      <td>1974-01-05 08:00:00+02:00</td>\n      <td>7.05</td>\n    </tr>\n    <tr>\n      <th>4</th>\n      <td>1974-01-06 08:00:00+02:00</td>\n      <td>17.57</td>\n    </tr>\n    <tr>\n      <th>...</th>\n      <td>...</td>\n      <td>...</td>\n    </tr>\n    <tr>\n      <th>6535</th>\n      <td>2014-08-06 00:00:00+02:00</td>\n      <td>19.83</td>\n    </tr>\n    <tr>\n      <th>6536</th>\n      <td>2014-08-07 00:00:00+02:00</td>\n      <td>18.04</td>\n    </tr>\n    <tr>\n      <th>6537</th>\n      <td>2014-08-08 00:00:00+02:00</td>\n      <td>26.39</td>\n    </tr>\n    <tr>\n      <th>6538</th>\n      <td>2014-08-09 00:00:00+02:00</td>\n      <td>27.15</td>\n    </tr>\n    <tr>\n      <th>6539</th>\n      <td>2014-08-11 00:00:00+02:00</td>\n      <td>8.02</td>\n    </tr>\n  </tbody>\n</table>\n<p>6540 rows × 2 columns</p>\n</div>"
     },
     "execution_count": 4,
     "metadata": {},
     "output_type": "execute_result"
    }
   ],
   "source": [
    "def find_start_row(file_path, column_index=1):\n",
    "    with open(file_path, 'r') as file:\n",
    "        for i, line in enumerate(file):\n",
    "            # Split the line by comma and check the second column\n",
    "            columns = line.strip().split(',')\n",
    "            if len(columns) > column_index:\n",
    "                try:\n",
    "                    float(columns[column_index])  # Check if it's a number\n",
    "                    return i  # Return the row number\n",
    "                except ValueError:\n",
    "                    continue\n",
    "    return 0  # Default to the first row if no match found\n",
    "\n",
    "# Path to your CSV file\n",
    "file_path = '/Users/rachel1/Downloads/rachel nile/fix/221001.csv'\n",
    "\n",
    "# Find the starting row\n",
    "start_row = find_start_row(file_path)\n",
    "\n",
    "# Read the CSV starting from the identified row, parsing the first column as datetime\n",
    "df = pd.read_csv(file_path, skiprows=start_row, header=None, parse_dates=[0])\n",
    "\n",
    "# Preview the DataFrame\n",
    "#print(df.info())\n",
    "df"
   ],
   "metadata": {
    "collapsed": false
   }
  },
  {
   "cell_type": "code",
   "execution_count": null,
   "outputs": [],
   "source": [],
   "metadata": {
    "collapsed": false
   }
  }
 ],
 "metadata": {
  "kernelspec": {
   "display_name": "Python 3",
   "language": "python",
   "name": "python3"
  },
  "language_info": {
   "codemirror_mode": {
    "name": "ipython",
    "version": 2
   },
   "file_extension": ".py",
   "mimetype": "text/x-python",
   "name": "python",
   "nbconvert_exporter": "python",
   "pygments_lexer": "ipython2",
   "version": "2.7.6"
  }
 },
 "nbformat": 4,
 "nbformat_minor": 0
}
