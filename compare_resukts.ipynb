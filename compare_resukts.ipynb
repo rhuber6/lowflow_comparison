{
 "cells": [
  {
   "cell_type": "code",
   "execution_count": 404,
   "metadata": {
    "collapsed": true
   },
   "outputs": [],
   "source": [
    "import xarray\n",
    "import geopandas as gpd\n",
    "import numpy as np\n",
    "import pandas as pd\n",
    "import s3fs\n",
    "import geoglows"
   ]
  },
  {
   "cell_type": "code",
   "execution_count": 393,
   "outputs": [],
   "source": [
    "bucket_uri = 's3://geoglows-v2-retrospective/retrospective.zarr'\n",
    "region_name = 'us-west-2'\n",
    "s3 = s3fs.S3FileSystem(anon=True, client_kwargs=dict(region_name=region_name))\n",
    "s3store = s3fs.S3Map(root=bucket_uri, s3=s3, check=False)\n",
    "\n",
    "ds = xarray.open_zarr(s3store)"
   ],
   "metadata": {
    "collapsed": false
   }
  },
  {
   "cell_type": "code",
   "execution_count": 394,
   "outputs": [],
   "source": [
    "# linkno = 160221792 # for kenya_1GD03\n",
    "# linkno = 160266239 # for rwanda_4326\n",
    "# linkno = 160212492 # for grdc_1270900\n",
    "# linkno = 160168155 # for grdc_1269200\n",
    "#linkno = 160213625 # for grdc_1769050\n",
    "#linkno = 160184420 # for grdc_1769100\n",
    "# linkno = 160191425 # for grdc_1769200\n",
    "#linkno = 160128354 # for grdc_1769150\n",
    "#linkno = 160504154 # for grdc_1563680\n",
    "linkno = 160528679 # for grdc_1563700\n",
    "linkno = 160622096 # for grdc_1563900\n",
    "linkno = 160590528 # for grdc_1563600\n",
    "linkno = 160536792 # for grdc_1563450\n",
    "linkno = 160596343 # for grdc_1563500\n",
    "linkno = 160608077 # for grdc_1563550\n",
    "linkno = 160553167 # for grdc_1563050"
   ],
   "metadata": {
    "collapsed": false
   }
  },
  {
   "cell_type": "code",
   "execution_count": 395,
   "outputs": [],
   "source": [
    "df = ds['Qout'].sel(rivid=linkno).to_dataframe()\n",
    "df = df.reset_index().set_index('time').pivot(columns='rivid', values='Qout')"
   ],
   "metadata": {
    "collapsed": false
   }
  },
  {
   "cell_type": "code",
   "execution_count": 396,
   "outputs": [],
   "source": [
    "df = df[(df.index > '1950-12-31')]"
   ],
   "metadata": {
    "collapsed": false
   }
  },
  {
   "cell_type": "code",
   "execution_count": 397,
   "outputs": [
    {
     "data": {
      "text/plain": "rivid       160553167\ntime                 \n1951-01-01   1.335294\n1951-01-02   1.288697\n1951-01-03   1.241366\n1951-01-04   1.195351\n1951-01-05   1.153690\n...               ...\n2024-07-26   5.400930\n2024-07-27  10.995282\n2024-07-28   6.809174\n2024-07-29   0.999245\n2024-07-30   0.332228\n\n[26875 rows x 1 columns]",
      "text/html": "<div>\n<style scoped>\n    .dataframe tbody tr th:only-of-type {\n        vertical-align: middle;\n    }\n\n    .dataframe tbody tr th {\n        vertical-align: top;\n    }\n\n    .dataframe thead th {\n        text-align: right;\n    }\n</style>\n<table border=\"1\" class=\"dataframe\">\n  <thead>\n    <tr style=\"text-align: right;\">\n      <th>rivid</th>\n      <th>160553167</th>\n    </tr>\n    <tr>\n      <th>time</th>\n      <th></th>\n    </tr>\n  </thead>\n  <tbody>\n    <tr>\n      <th>1951-01-01</th>\n      <td>1.335294</td>\n    </tr>\n    <tr>\n      <th>1951-01-02</th>\n      <td>1.288697</td>\n    </tr>\n    <tr>\n      <th>1951-01-03</th>\n      <td>1.241366</td>\n    </tr>\n    <tr>\n      <th>1951-01-04</th>\n      <td>1.195351</td>\n    </tr>\n    <tr>\n      <th>1951-01-05</th>\n      <td>1.153690</td>\n    </tr>\n    <tr>\n      <th>...</th>\n      <td>...</td>\n    </tr>\n    <tr>\n      <th>2024-07-26</th>\n      <td>5.400930</td>\n    </tr>\n    <tr>\n      <th>2024-07-27</th>\n      <td>10.995282</td>\n    </tr>\n    <tr>\n      <th>2024-07-28</th>\n      <td>6.809174</td>\n    </tr>\n    <tr>\n      <th>2024-07-29</th>\n      <td>0.999245</td>\n    </tr>\n    <tr>\n      <th>2024-07-30</th>\n      <td>0.332228</td>\n    </tr>\n  </tbody>\n</table>\n<p>26875 rows × 1 columns</p>\n</div>"
     },
     "execution_count": 397,
     "metadata": {},
     "output_type": "execute_result"
    }
   ],
   "source": [
    "df"
   ],
   "metadata": {
    "collapsed": false
   }
  },
  {
   "cell_type": "code",
   "execution_count": 398,
   "outputs": [],
   "source": [
    "# gauge = pd.read_csv(\"/Users/rachel1/Downloads/rachel nile/kenya_1GD03.csv\")\n",
    "# gauge = pd.read_csv(\"/Users/rachel1/Downloads/rwanda_4326.csv\")\n",
    "# gauge = pd.read_csv(\"/Users/rachel1/Downloads/rachel nile/grdc_1270900.csv\")\n",
    "# gauge = pd.read_csv(\"/Users/rachel1/Downloads/rachel nile/grdc_1269200.csv\")\n",
    "# gauge = pd.read_csv(\"/Users/rachel1/Downloads/rachel nile/grdc_1769050.csv\")\n",
    "# gauge = pd.read_csv(\"/Users/rachel1/Downloads/rachel nile/grdc_1769100.csv\")\n",
    "# gauge = pd.read_csv(\"/Users/rachel1/Downloads/rachel nile/grdc_1769200.csv\")\n",
    "# gauge = pd.read_csv(\"/Users/rachel1/Downloads/rachel nile/grdc_1769150.csv\")\n",
    "# gauge = pd.read_csv(\"/Users/rachel1/Downloads/rachel nile/grdc_1563680.csv\")\n",
    "gauge = pd.read_csv(\"/Users/rachel1/Downloads/rachel nile/grdc_1563700.csv\")\n",
    "gauge = pd.read_csv(\"/Users/rachel1/Downloads/rachel nile/grdc_1563900.csv\")\n",
    "gauge = pd.read_csv(\"/Users/rachel1/Downloads/rachel nile/grdc_1563600.csv\")\n",
    "gauge = pd.read_csv(\"/Users/rachel1/Downloads/rachel nile/grdc_1563450.csv\")\n",
    "gauge = pd.read_csv(\"/Users/rachel1/Downloads/rachel nile/grdc_1563500.csv\")\n",
    "gauge = pd.read_csv(\"/Users/rachel1/Downloads/rachel nile/grdc_1563550.csv\")\n",
    "gauge = pd.read_csv(\"/Users/rachel1/Downloads/rachel nile/grdc_1563050.csv\")"
   ],
   "metadata": {
    "collapsed": false
   }
  },
  {
   "cell_type": "code",
   "execution_count": 399,
   "outputs": [
    {
     "data": {
      "text/plain": "        Datetime  Streamflow (m3/s)\n0     1978-01-01                0.0\n1     1978-01-02                0.0\n2     1978-01-03                0.0\n3     1978-01-04                0.0\n4     1978-01-05                0.0\n...          ...                ...\n1091  1980-12-27                0.0\n1092  1980-12-28                0.0\n1093  1980-12-29                0.0\n1094  1980-12-30                0.0\n1095  1980-12-31                0.0\n\n[1096 rows x 2 columns]",
      "text/html": "<div>\n<style scoped>\n    .dataframe tbody tr th:only-of-type {\n        vertical-align: middle;\n    }\n\n    .dataframe tbody tr th {\n        vertical-align: top;\n    }\n\n    .dataframe thead th {\n        text-align: right;\n    }\n</style>\n<table border=\"1\" class=\"dataframe\">\n  <thead>\n    <tr style=\"text-align: right;\">\n      <th></th>\n      <th>Datetime</th>\n      <th>Streamflow (m3/s)</th>\n    </tr>\n  </thead>\n  <tbody>\n    <tr>\n      <th>0</th>\n      <td>1978-01-01</td>\n      <td>0.0</td>\n    </tr>\n    <tr>\n      <th>1</th>\n      <td>1978-01-02</td>\n      <td>0.0</td>\n    </tr>\n    <tr>\n      <th>2</th>\n      <td>1978-01-03</td>\n      <td>0.0</td>\n    </tr>\n    <tr>\n      <th>3</th>\n      <td>1978-01-04</td>\n      <td>0.0</td>\n    </tr>\n    <tr>\n      <th>4</th>\n      <td>1978-01-05</td>\n      <td>0.0</td>\n    </tr>\n    <tr>\n      <th>...</th>\n      <td>...</td>\n      <td>...</td>\n    </tr>\n    <tr>\n      <th>1091</th>\n      <td>1980-12-27</td>\n      <td>0.0</td>\n    </tr>\n    <tr>\n      <th>1092</th>\n      <td>1980-12-28</td>\n      <td>0.0</td>\n    </tr>\n    <tr>\n      <th>1093</th>\n      <td>1980-12-29</td>\n      <td>0.0</td>\n    </tr>\n    <tr>\n      <th>1094</th>\n      <td>1980-12-30</td>\n      <td>0.0</td>\n    </tr>\n    <tr>\n      <th>1095</th>\n      <td>1980-12-31</td>\n      <td>0.0</td>\n    </tr>\n  </tbody>\n</table>\n<p>1096 rows × 2 columns</p>\n</div>"
     },
     "execution_count": 399,
     "metadata": {},
     "output_type": "execute_result"
    }
   ],
   "source": [
    "gauge = gauge[gauge['Streamflow (m3/s)'] >= 0]\n",
    "gauge"
   ],
   "metadata": {
    "collapsed": false
   }
  },
  {
   "cell_type": "code",
   "execution_count": 402,
   "outputs": [],
   "source": [
    "# Assuming df1 has a Datetime column\n",
    "gauge['Datetime'] = pd.to_datetime(gauge['Datetime'])\n",
    "gauge.set_index('Datetime', inplace=True)\n",
    "# Assuming df2 has a Datetime index\n",
    "df.index = pd.to_datetime(df.index)"
   ],
   "metadata": {
    "collapsed": false
   }
  },
  {
   "cell_type": "code",
   "execution_count": 403,
   "outputs": [
    {
     "data": {
      "text/plain": "            Streamflow (m3/s)\nDatetime                     \n1978-01-01                0.0\n1978-01-02                0.0\n1978-01-03                0.0\n1978-01-04                0.0\n1978-01-05                0.0\n...                       ...\n1980-12-27                0.0\n1980-12-28                0.0\n1980-12-29                0.0\n1980-12-30                0.0\n1980-12-31                0.0\n\n[1096 rows x 1 columns]",
      "text/html": "<div>\n<style scoped>\n    .dataframe tbody tr th:only-of-type {\n        vertical-align: middle;\n    }\n\n    .dataframe tbody tr th {\n        vertical-align: top;\n    }\n\n    .dataframe thead th {\n        text-align: right;\n    }\n</style>\n<table border=\"1\" class=\"dataframe\">\n  <thead>\n    <tr style=\"text-align: right;\">\n      <th></th>\n      <th>Streamflow (m3/s)</th>\n    </tr>\n    <tr>\n      <th>Datetime</th>\n      <th></th>\n    </tr>\n  </thead>\n  <tbody>\n    <tr>\n      <th>1978-01-01</th>\n      <td>0.0</td>\n    </tr>\n    <tr>\n      <th>1978-01-02</th>\n      <td>0.0</td>\n    </tr>\n    <tr>\n      <th>1978-01-03</th>\n      <td>0.0</td>\n    </tr>\n    <tr>\n      <th>1978-01-04</th>\n      <td>0.0</td>\n    </tr>\n    <tr>\n      <th>1978-01-05</th>\n      <td>0.0</td>\n    </tr>\n    <tr>\n      <th>...</th>\n      <td>...</td>\n    </tr>\n    <tr>\n      <th>1980-12-27</th>\n      <td>0.0</td>\n    </tr>\n    <tr>\n      <th>1980-12-28</th>\n      <td>0.0</td>\n    </tr>\n    <tr>\n      <th>1980-12-29</th>\n      <td>0.0</td>\n    </tr>\n    <tr>\n      <th>1980-12-30</th>\n      <td>0.0</td>\n    </tr>\n    <tr>\n      <th>1980-12-31</th>\n      <td>0.0</td>\n    </tr>\n  </tbody>\n</table>\n<p>1096 rows × 1 columns</p>\n</div>"
     },
     "execution_count": 403,
     "metadata": {},
     "output_type": "execute_result"
    }
   ],
   "source": [
    "gauge"
   ],
   "metadata": {
    "collapsed": false
   }
  },
  {
   "cell_type": "code",
   "execution_count": 405,
   "outputs": [
    {
     "name": "stderr",
     "output_type": "stream",
     "text": [
      "/Users/rachel1/miniconda3/envs/ecuador/lib/python3.9/site-packages/geoglows/bias.py:136: UserWarning:\n",
      "\n",
      "The observational data has the same max and min value. You may get unanticipated results.\n",
      "\n"
     ]
    }
   ],
   "source": [
    "bias_correct = geoglows.bias.correct_historical(df, gauge)"
   ],
   "metadata": {
    "collapsed": false
   }
  },
  {
   "cell_type": "code",
   "execution_count": 410,
   "outputs": [
    {
     "data": {
      "text/plain": "Streamflow (m3/s)    0.0\ndtype: float64"
     },
     "execution_count": 410,
     "metadata": {},
     "output_type": "execute_result"
    }
   ],
   "source": [
    "gauge.min()"
   ],
   "metadata": {
    "collapsed": false
   }
  },
  {
   "cell_type": "code",
   "execution_count": 408,
   "outputs": [
    {
     "data": {
      "text/plain": "rivid\n160553167    65.011131\ndtype: float32"
     },
     "execution_count": 408,
     "metadata": {},
     "output_type": "execute_result"
    }
   ],
   "source": [
    "df.max()"
   ],
   "metadata": {
    "collapsed": false
   }
  },
  {
   "cell_type": "code",
   "execution_count": 406,
   "outputs": [
    {
     "data": {
      "text/plain": "            Corrected Simulated Streamflow\n1951-01-01                        1.111960\n1951-01-02                        1.111600\n1951-01-03                        1.111234\n1951-01-04                        1.110878\n1951-01-05                        1.110556\n...                                    ...\n2024-07-26                        0.603434\n2024-07-27                        3.820380\n2024-07-28                        0.928987\n2024-07-29                        0.100881\n2024-07-30                        0.033541\n\n[26875 rows x 1 columns]",
      "text/html": "<div>\n<style scoped>\n    .dataframe tbody tr th:only-of-type {\n        vertical-align: middle;\n    }\n\n    .dataframe tbody tr th {\n        vertical-align: top;\n    }\n\n    .dataframe thead th {\n        text-align: right;\n    }\n</style>\n<table border=\"1\" class=\"dataframe\">\n  <thead>\n    <tr style=\"text-align: right;\">\n      <th></th>\n      <th>Corrected Simulated Streamflow</th>\n    </tr>\n  </thead>\n  <tbody>\n    <tr>\n      <th>1951-01-01</th>\n      <td>1.111960</td>\n    </tr>\n    <tr>\n      <th>1951-01-02</th>\n      <td>1.111600</td>\n    </tr>\n    <tr>\n      <th>1951-01-03</th>\n      <td>1.111234</td>\n    </tr>\n    <tr>\n      <th>1951-01-04</th>\n      <td>1.110878</td>\n    </tr>\n    <tr>\n      <th>1951-01-05</th>\n      <td>1.110556</td>\n    </tr>\n    <tr>\n      <th>...</th>\n      <td>...</td>\n    </tr>\n    <tr>\n      <th>2024-07-26</th>\n      <td>0.603434</td>\n    </tr>\n    <tr>\n      <th>2024-07-27</th>\n      <td>3.820380</td>\n    </tr>\n    <tr>\n      <th>2024-07-28</th>\n      <td>0.928987</td>\n    </tr>\n    <tr>\n      <th>2024-07-29</th>\n      <td>0.100881</td>\n    </tr>\n    <tr>\n      <th>2024-07-30</th>\n      <td>0.033541</td>\n    </tr>\n  </tbody>\n</table>\n<p>26875 rows × 1 columns</p>\n</div>"
     },
     "execution_count": 406,
     "metadata": {},
     "output_type": "execute_result"
    }
   ],
   "source": [
    "bias_correct"
   ],
   "metadata": {
    "collapsed": false
   }
  },
  {
   "cell_type": "code",
   "execution_count": 362,
   "outputs": [],
   "source": [
    "merged_df = pd.merge(gauge, df, left_on='Datetime', right_index=True, how='inner')"
   ],
   "metadata": {
    "collapsed": false
   }
  },
  {
   "cell_type": "code",
   "execution_count": 363,
   "outputs": [
    {
     "data": {
      "text/plain": "       Datetime  Streamflow (m3/s)  160504154\n0    1978-01-01                0.0   0.799914\n1    1978-01-02                0.0   0.653509\n2    1978-01-03                0.0   0.583179\n3    1978-01-04                0.0   0.557582\n4    1978-01-05                0.0   0.536771\n...         ...                ...        ...\n1091 1980-12-27                0.0   0.263302\n1092 1980-12-28                0.0   0.263532\n1093 1980-12-29                0.0   0.249981\n1094 1980-12-30                0.0   0.234640\n1095 1980-12-31                0.0   0.244736\n\n[1096 rows x 3 columns]",
      "text/html": "<div>\n<style scoped>\n    .dataframe tbody tr th:only-of-type {\n        vertical-align: middle;\n    }\n\n    .dataframe tbody tr th {\n        vertical-align: top;\n    }\n\n    .dataframe thead th {\n        text-align: right;\n    }\n</style>\n<table border=\"1\" class=\"dataframe\">\n  <thead>\n    <tr style=\"text-align: right;\">\n      <th></th>\n      <th>Datetime</th>\n      <th>Streamflow (m3/s)</th>\n      <th>160504154</th>\n    </tr>\n  </thead>\n  <tbody>\n    <tr>\n      <th>0</th>\n      <td>1978-01-01</td>\n      <td>0.0</td>\n      <td>0.799914</td>\n    </tr>\n    <tr>\n      <th>1</th>\n      <td>1978-01-02</td>\n      <td>0.0</td>\n      <td>0.653509</td>\n    </tr>\n    <tr>\n      <th>2</th>\n      <td>1978-01-03</td>\n      <td>0.0</td>\n      <td>0.583179</td>\n    </tr>\n    <tr>\n      <th>3</th>\n      <td>1978-01-04</td>\n      <td>0.0</td>\n      <td>0.557582</td>\n    </tr>\n    <tr>\n      <th>4</th>\n      <td>1978-01-05</td>\n      <td>0.0</td>\n      <td>0.536771</td>\n    </tr>\n    <tr>\n      <th>...</th>\n      <td>...</td>\n      <td>...</td>\n      <td>...</td>\n    </tr>\n    <tr>\n      <th>1091</th>\n      <td>1980-12-27</td>\n      <td>0.0</td>\n      <td>0.263302</td>\n    </tr>\n    <tr>\n      <th>1092</th>\n      <td>1980-12-28</td>\n      <td>0.0</td>\n      <td>0.263532</td>\n    </tr>\n    <tr>\n      <th>1093</th>\n      <td>1980-12-29</td>\n      <td>0.0</td>\n      <td>0.249981</td>\n    </tr>\n    <tr>\n      <th>1094</th>\n      <td>1980-12-30</td>\n      <td>0.0</td>\n      <td>0.234640</td>\n    </tr>\n    <tr>\n      <th>1095</th>\n      <td>1980-12-31</td>\n      <td>0.0</td>\n      <td>0.244736</td>\n    </tr>\n  </tbody>\n</table>\n<p>1096 rows × 3 columns</p>\n</div>"
     },
     "execution_count": 363,
     "metadata": {},
     "output_type": "execute_result"
    }
   ],
   "source": [
    "merged_df"
   ],
   "metadata": {
    "collapsed": false
   }
  },
  {
   "cell_type": "code",
   "execution_count": 364,
   "outputs": [
    {
     "name": "stdout",
     "output_type": "stream",
     "text": [
      "Number of occurrences where 'Streamflow (m3/s)' is less than 1: 731\n"
     ]
    }
   ],
   "source": [
    "# Create a Boolean mask where \"Streamflow (m3/s)\" is less than 1\n",
    "mask = merged_df['Streamflow (m3/s)'] < 1\n",
    "\n",
    "# Count the occurrences\n",
    "count_less_than_1 = mask.sum()\n",
    "\n",
    "print(\"Number of occurrences where 'Streamflow (m3/s)' is less than 1:\", count_less_than_1)"
   ],
   "metadata": {
    "collapsed": false
   }
  },
  {
   "cell_type": "code",
   "execution_count": 365,
   "outputs": [
    {
     "name": "stdout",
     "output_type": "stream",
     "text": [
      "Number of occurrences where 'Streamflow (m3/s)' is less than 1: 282\n"
     ]
    }
   ],
   "source": [
    "# Create a Boolean mask where \"Streamflow (m3/s)\" is less than 1\n",
    "mask = merged_df[linkno] < 1\n",
    "\n",
    "# Count the occurrences\n",
    "count_less_than_1 = mask.sum()\n",
    "\n",
    "print(\"Number of occurrences where 'Streamflow (m3/s)' is less than 1:\", count_less_than_1)"
   ],
   "metadata": {
    "collapsed": false
   }
  },
  {
   "cell_type": "code",
   "execution_count": 366,
   "outputs": [],
   "source": [
    "merged_df = merged_df[merged_df['Streamflow (m3/s)'] > 0]\n",
    "merged_df = merged_df[merged_df[linkno] > 0]"
   ],
   "metadata": {
    "collapsed": false
   }
  },
  {
   "cell_type": "code",
   "execution_count": 367,
   "outputs": [
    {
     "data": {
      "text/plain": "Index(['Datetime', 'Streamflow (m3/s)', 160504154], dtype='object')"
     },
     "execution_count": 367,
     "metadata": {},
     "output_type": "execute_result"
    }
   ],
   "source": [
    "merged_df.columns"
   ],
   "metadata": {
    "collapsed": false
   }
  },
  {
   "cell_type": "code",
   "execution_count": 368,
   "outputs": [
    {
     "name": "stdout",
     "output_type": "stream",
     "text": [
      "95th percentile for 'Streamflow (m3/s)': 1.0\n",
      "95th percentile for '160221792': 5.721791744232178\n"
     ]
    }
   ],
   "source": [
    "def weibull_95th_percentile(column):\n",
    "    # Sort the column values in ascending order\n",
    "    sorted_values = column.sort_values()\n",
    "\n",
    "    # Calculate the Weibull plotting positions\n",
    "    n = len(sorted_values)\n",
    "    weibull_positions = [(i + 1) / (n + 1) for i in range(n)]\n",
    "\n",
    "    # Create a DataFrame with sorted values and Weibull positions\n",
    "    weibull_df = pd.DataFrame({'Values': sorted_values, 'Weibull Position': weibull_positions})\n",
    "\n",
    "    # Find the value corresponding to the 95th percentile (closest to 0.95)\n",
    "    value_95th_percentile = weibull_df.loc[weibull_df['Weibull Position'] >= 0.05, 'Values'].iloc[0]\n",
    "\n",
    "    return value_95th_percentile\n",
    "\n",
    "# Calculate the 95th percentile for each column\n",
    "Q95_gauge = weibull_95th_percentile(merged_df['Streamflow (m3/s)'])\n",
    "Q95_geoglows = weibull_95th_percentile(merged_df[linkno])\n",
    "\n",
    "print(f\"95th percentile for 'Streamflow (m3/s)': {Q95_gauge}\")\n",
    "print(f\"95th percentile for '160221792': {Q95_geoglows}\")"
   ],
   "metadata": {
    "collapsed": false
   }
  },
  {
   "cell_type": "code",
   "execution_count": 369,
   "outputs": [],
   "source": [
    "#exceedances_streamflow = (merged_df['Streamflow (m3/s)'] < Q95_gauge).sum()\n",
    "exceedances_streamflow = merged_df[(merged_df['Streamflow (m3/s)'] <= Q95_gauge)]"
   ],
   "metadata": {
    "collapsed": false
   }
  },
  {
   "cell_type": "code",
   "execution_count": 390,
   "outputs": [
    {
     "data": {
      "text/plain": "      Datetime  Streamflow (m3/s)  160504154  GAUGE_7Day_Avg  \\\n291 1978-10-19                1.0   4.141653             1.0   \n404 1979-02-09                1.0   3.844294             1.0   \n510 1979-05-26                1.0   5.547673             1.0   \n511 1979-05-27                1.0   2.315886             1.0   \n840 1980-04-20                1.0   4.829660             1.0   \n896 1980-06-15                1.0   7.795319             1.0   \n897 1980-06-16                1.0   9.638327             1.0   \n898 1980-06-17                1.0  11.659918             1.0   \n900 1980-06-19                1.0   8.388013             1.0   \n901 1980-06-20                1.0   9.922993             1.0   \n902 1980-06-21                1.0   8.939822             1.0   \n903 1980-06-22                1.0   9.231022             1.0   \n\n     GEOGLOWS_7Day_Avg  \n291          15.057590  \n404          14.831098  \n510          14.806224  \n511          10.173005  \n840           8.262087  \n896           8.453738  \n897           8.769174  \n898           9.497647  \n900          10.018832  \n901          10.820427  \n902           8.739150  \n903           9.367916  ",
      "text/html": "<div>\n<style scoped>\n    .dataframe tbody tr th:only-of-type {\n        vertical-align: middle;\n    }\n\n    .dataframe tbody tr th {\n        vertical-align: top;\n    }\n\n    .dataframe thead th {\n        text-align: right;\n    }\n</style>\n<table border=\"1\" class=\"dataframe\">\n  <thead>\n    <tr style=\"text-align: right;\">\n      <th></th>\n      <th>Datetime</th>\n      <th>Streamflow (m3/s)</th>\n      <th>160504154</th>\n      <th>GAUGE_7Day_Avg</th>\n      <th>GEOGLOWS_7Day_Avg</th>\n    </tr>\n  </thead>\n  <tbody>\n    <tr>\n      <th>291</th>\n      <td>1978-10-19</td>\n      <td>1.0</td>\n      <td>4.141653</td>\n      <td>1.0</td>\n      <td>15.057590</td>\n    </tr>\n    <tr>\n      <th>404</th>\n      <td>1979-02-09</td>\n      <td>1.0</td>\n      <td>3.844294</td>\n      <td>1.0</td>\n      <td>14.831098</td>\n    </tr>\n    <tr>\n      <th>510</th>\n      <td>1979-05-26</td>\n      <td>1.0</td>\n      <td>5.547673</td>\n      <td>1.0</td>\n      <td>14.806224</td>\n    </tr>\n    <tr>\n      <th>511</th>\n      <td>1979-05-27</td>\n      <td>1.0</td>\n      <td>2.315886</td>\n      <td>1.0</td>\n      <td>10.173005</td>\n    </tr>\n    <tr>\n      <th>840</th>\n      <td>1980-04-20</td>\n      <td>1.0</td>\n      <td>4.829660</td>\n      <td>1.0</td>\n      <td>8.262087</td>\n    </tr>\n    <tr>\n      <th>896</th>\n      <td>1980-06-15</td>\n      <td>1.0</td>\n      <td>7.795319</td>\n      <td>1.0</td>\n      <td>8.453738</td>\n    </tr>\n    <tr>\n      <th>897</th>\n      <td>1980-06-16</td>\n      <td>1.0</td>\n      <td>9.638327</td>\n      <td>1.0</td>\n      <td>8.769174</td>\n    </tr>\n    <tr>\n      <th>898</th>\n      <td>1980-06-17</td>\n      <td>1.0</td>\n      <td>11.659918</td>\n      <td>1.0</td>\n      <td>9.497647</td>\n    </tr>\n    <tr>\n      <th>900</th>\n      <td>1980-06-19</td>\n      <td>1.0</td>\n      <td>8.388013</td>\n      <td>1.0</td>\n      <td>10.018832</td>\n    </tr>\n    <tr>\n      <th>901</th>\n      <td>1980-06-20</td>\n      <td>1.0</td>\n      <td>9.922993</td>\n      <td>1.0</td>\n      <td>10.820427</td>\n    </tr>\n    <tr>\n      <th>902</th>\n      <td>1980-06-21</td>\n      <td>1.0</td>\n      <td>8.939822</td>\n      <td>1.0</td>\n      <td>8.739150</td>\n    </tr>\n    <tr>\n      <th>903</th>\n      <td>1980-06-22</td>\n      <td>1.0</td>\n      <td>9.231022</td>\n      <td>1.0</td>\n      <td>9.367916</td>\n    </tr>\n  </tbody>\n</table>\n</div>"
     },
     "execution_count": 390,
     "metadata": {},
     "output_type": "execute_result"
    }
   ],
   "source": [
    "exceedances_streamflow"
   ],
   "metadata": {
    "collapsed": false
   }
  },
  {
   "cell_type": "code",
   "execution_count": 371,
   "outputs": [],
   "source": [
    "#exceedances_160221792 = (merged_df[160221792] < Q95_geoglows).sum()\n",
    "exceedances_160221792 = merged_df[(merged_df[linkno] <= Q95_geoglows)]"
   ],
   "metadata": {
    "collapsed": false
   }
  },
  {
   "cell_type": "code",
   "execution_count": 391,
   "outputs": [
    {
     "data": {
      "text/plain": "       Datetime  Streamflow (m3/s)  160504154  GAUGE_7Day_Avg  \\\n538  1979-06-23                2.0   8.706210        1.142857   \n539  1979-06-24                2.0  10.874031        1.285714   \n1015 1980-10-12                1.0   3.493821        1.714286   \n1016 1980-10-13                1.0   3.325642        1.571429   \n1017 1980-10-14                1.0   3.179468        1.428571   \n1018 1980-10-15                1.0   3.025347        1.285714   \n\n      GEOGLOWS_7Day_Avg  \n538            5.469267  \n539            5.715474  \n1015           5.519717  \n1016           4.555990  \n1017           3.799120  \n1018           3.519808  ",
      "text/html": "<div>\n<style scoped>\n    .dataframe tbody tr th:only-of-type {\n        vertical-align: middle;\n    }\n\n    .dataframe tbody tr th {\n        vertical-align: top;\n    }\n\n    .dataframe thead th {\n        text-align: right;\n    }\n</style>\n<table border=\"1\" class=\"dataframe\">\n  <thead>\n    <tr style=\"text-align: right;\">\n      <th></th>\n      <th>Datetime</th>\n      <th>Streamflow (m3/s)</th>\n      <th>160504154</th>\n      <th>GAUGE_7Day_Avg</th>\n      <th>GEOGLOWS_7Day_Avg</th>\n    </tr>\n  </thead>\n  <tbody>\n    <tr>\n      <th>538</th>\n      <td>1979-06-23</td>\n      <td>2.0</td>\n      <td>8.706210</td>\n      <td>1.142857</td>\n      <td>5.469267</td>\n    </tr>\n    <tr>\n      <th>539</th>\n      <td>1979-06-24</td>\n      <td>2.0</td>\n      <td>10.874031</td>\n      <td>1.285714</td>\n      <td>5.715474</td>\n    </tr>\n    <tr>\n      <th>1015</th>\n      <td>1980-10-12</td>\n      <td>1.0</td>\n      <td>3.493821</td>\n      <td>1.714286</td>\n      <td>5.519717</td>\n    </tr>\n    <tr>\n      <th>1016</th>\n      <td>1980-10-13</td>\n      <td>1.0</td>\n      <td>3.325642</td>\n      <td>1.571429</td>\n      <td>4.555990</td>\n    </tr>\n    <tr>\n      <th>1017</th>\n      <td>1980-10-14</td>\n      <td>1.0</td>\n      <td>3.179468</td>\n      <td>1.428571</td>\n      <td>3.799120</td>\n    </tr>\n    <tr>\n      <th>1018</th>\n      <td>1980-10-15</td>\n      <td>1.0</td>\n      <td>3.025347</td>\n      <td>1.285714</td>\n      <td>3.519808</td>\n    </tr>\n  </tbody>\n</table>\n</div>"
     },
     "execution_count": 391,
     "metadata": {},
     "output_type": "execute_result"
    }
   ],
   "source": [
    "exceedances_160221792"
   ],
   "metadata": {
    "collapsed": false
   }
  },
  {
   "cell_type": "code",
   "execution_count": 373,
   "outputs": [
    {
     "name": "stdout",
     "output_type": "stream",
     "text": [
      "The number of times streamflow is less than Q95_gauge and geoglows is less than Q95_geoglows is: 15\n"
     ]
    }
   ],
   "source": [
    "count = merged_df[(merged_df['Streamflow (m3/s)'] <= Q95_gauge) & (merged_df[linkno] <= Q95_geoglows)].shape[0]\n",
    "\n",
    "print(f\"The number of times streamflow is less than Q95_gauge and geoglows is less than Q95_geoglows is: {count}\")"
   ],
   "metadata": {
    "collapsed": false
   }
  },
  {
   "cell_type": "code",
   "execution_count": 374,
   "outputs": [
    {
     "data": {
      "text/plain": "<Figure size 1000x600 with 1 Axes>",
      "image/png": "[encoded data removed]"
     },
     "metadata": {},
     "output_type": "display_data"
    }
   ],
   "source": [
    "import matplotlib.pyplot as plt\n",
    "\n",
    "# Assuming merged_df is your DataFrame and it has a \"Datetime\" column\n",
    "plt.figure(figsize=(10, 6))\n",
    "\n",
    "# Plot each column in merged_df except \"Datetime\"\n",
    "for column in merged_df.columns:\n",
    "    if column != \"Datetime\":\n",
    "        plt.plot(merged_df['Datetime'], merged_df[column], label=column)\n",
    "\n",
    "plt.xlabel('Datetime')\n",
    "plt.ylabel('Values')\n",
    "plt.title('Merged DataFrame Columns over Time')\n",
    "plt.legend()\n",
    "plt.grid(True)\n",
    "plt.show()\n"
   ],
   "metadata": {
    "collapsed": false
   }
  },
  {
   "cell_type": "code",
   "execution_count": 375,
   "outputs": [],
   "source": [
    "merged_df['GAUGE_7Day_Avg'] = merged_df['Streamflow (m3/s)'].rolling(window=7).mean()\n",
    "merged_df['GEOGLOWS_7Day_Avg'] = merged_df[linkno].rolling(window=7).mean()\n"
   ],
   "metadata": {
    "collapsed": false
   }
  },
  {
   "cell_type": "code",
   "execution_count": 376,
   "outputs": [
    {
     "data": {
      "text/plain": "       Datetime  Streamflow (m3/s)  160504154  GAUGE_7Day_Avg  \\\n166  1978-06-16                1.0   9.317058             NaN   \n167  1978-06-17                1.0  10.375706             NaN   \n168  1978-06-18                2.0  10.758689             NaN   \n169  1978-06-19                3.0  10.831696             NaN   \n170  1978-06-20                2.0  11.303539             NaN   \n...         ...                ...        ...             ...   \n1014 1980-10-11                1.0   3.671008        1.857143   \n1015 1980-10-12                1.0   3.493821        1.714286   \n1016 1980-10-13                1.0   3.325642        1.571429   \n1017 1980-10-14                1.0   3.179468        1.428571   \n1018 1980-10-15                1.0   3.025347        1.285714   \n\n      GEOGLOWS_7Day_Avg  \n166                 NaN  \n167                 NaN  \n168                 NaN  \n169                 NaN  \n170                 NaN  \n...                 ...  \n1014           6.476858  \n1015           5.519717  \n1016           4.555990  \n1017           3.799120  \n1018           3.519808  \n\n[365 rows x 5 columns]",
      "text/html": "<div>\n<style scoped>\n    .dataframe tbody tr th:only-of-type {\n        vertical-align: middle;\n    }\n\n    .dataframe tbody tr th {\n        vertical-align: top;\n    }\n\n    .dataframe thead th {\n        text-align: right;\n    }\n</style>\n<table border=\"1\" class=\"dataframe\">\n  <thead>\n    <tr style=\"text-align: right;\">\n      <th></th>\n      <th>Datetime</th>\n      <th>Streamflow (m3/s)</th>\n      <th>160504154</th>\n      <th>GAUGE_7Day_Avg</th>\n      <th>GEOGLOWS_7Day_Avg</th>\n    </tr>\n  </thead>\n  <tbody>\n    <tr>\n      <th>166</th>\n      <td>1978-06-16</td>\n      <td>1.0</td>\n      <td>9.317058</td>\n      <td>NaN</td>\n      <td>NaN</td>\n    </tr>\n    <tr>\n      <th>167</th>\n      <td>1978-06-17</td>\n      <td>1.0</td>\n      <td>10.375706</td>\n      <td>NaN</td>\n      <td>NaN</td>\n    </tr>\n    <tr>\n      <th>168</th>\n      <td>1978-06-18</td>\n      <td>2.0</td>\n      <td>10.758689</td>\n      <td>NaN</td>\n      <td>NaN</td>\n    </tr>\n    <tr>\n      <th>169</th>\n      <td>1978-06-19</td>\n      <td>3.0</td>\n      <td>10.831696</td>\n      <td>NaN</td>\n      <td>NaN</td>\n    </tr>\n    <tr>\n      <th>170</th>\n      <td>1978-06-20</td>\n      <td>2.0</td>\n      <td>11.303539</td>\n      <td>NaN</td>\n      <td>NaN</td>\n    </tr>\n    <tr>\n      <th>...</th>\n      <td>...</td>\n      <td>...</td>\n      <td>...</td>\n      <td>...</td>\n      <td>...</td>\n    </tr>\n    <tr>\n      <th>1014</th>\n      <td>1980-10-11</td>\n      <td>1.0</td>\n      <td>3.671008</td>\n      <td>1.857143</td>\n      <td>6.476858</td>\n    </tr>\n    <tr>\n      <th>1015</th>\n      <td>1980-10-12</td>\n      <td>1.0</td>\n      <td>3.493821</td>\n      <td>1.714286</td>\n      <td>5.519717</td>\n    </tr>\n    <tr>\n      <th>1016</th>\n      <td>1980-10-13</td>\n      <td>1.0</td>\n      <td>3.325642</td>\n      <td>1.571429</td>\n      <td>4.555990</td>\n    </tr>\n    <tr>\n      <th>1017</th>\n      <td>1980-10-14</td>\n      <td>1.0</td>\n      <td>3.179468</td>\n      <td>1.428571</td>\n      <td>3.799120</td>\n    </tr>\n    <tr>\n      <th>1018</th>\n      <td>1980-10-15</td>\n      <td>1.0</td>\n      <td>3.025347</td>\n      <td>1.285714</td>\n      <td>3.519808</td>\n    </tr>\n  </tbody>\n</table>\n<p>365 rows × 5 columns</p>\n</div>"
     },
     "execution_count": 376,
     "metadata": {},
     "output_type": "execute_result"
    }
   ],
   "source": [
    "merged_df"
   ],
   "metadata": {
    "collapsed": false
   }
  },
  {
   "cell_type": "code",
   "execution_count": 377,
   "outputs": [
    {
     "data": {
      "text/plain": "      Datetime  Streamflow (m3/s)  160504154  GAUGE_7Day_Avg  \\\n291 1978-10-19                1.0   4.141653             1.0   \n404 1979-02-09                1.0   3.844294             1.0   \n510 1979-05-26                1.0   5.547673             1.0   \n511 1979-05-27                1.0   2.315886             1.0   \n840 1980-04-20                1.0   4.829660             1.0   \n896 1980-06-15                1.0   7.795319             1.0   \n897 1980-06-16                1.0   9.638327             1.0   \n898 1980-06-17                1.0  11.659918             1.0   \n900 1980-06-19                1.0   8.388013             1.0   \n901 1980-06-20                1.0   9.922993             1.0   \n902 1980-06-21                1.0   8.939822             1.0   \n903 1980-06-22                1.0   9.231022             1.0   \n\n     GEOGLOWS_7Day_Avg  \n291          15.057590  \n404          14.831098  \n510          14.806224  \n511          10.173005  \n840           8.262087  \n896           8.453738  \n897           8.769174  \n898           9.497647  \n900          10.018832  \n901          10.820427  \n902           8.739150  \n903           9.367916  ",
      "text/html": "<div>\n<style scoped>\n    .dataframe tbody tr th:only-of-type {\n        vertical-align: middle;\n    }\n\n    .dataframe tbody tr th {\n        vertical-align: top;\n    }\n\n    .dataframe thead th {\n        text-align: right;\n    }\n</style>\n<table border=\"1\" class=\"dataframe\">\n  <thead>\n    <tr style=\"text-align: right;\">\n      <th></th>\n      <th>Datetime</th>\n      <th>Streamflow (m3/s)</th>\n      <th>160504154</th>\n      <th>GAUGE_7Day_Avg</th>\n      <th>GEOGLOWS_7Day_Avg</th>\n    </tr>\n  </thead>\n  <tbody>\n    <tr>\n      <th>291</th>\n      <td>1978-10-19</td>\n      <td>1.0</td>\n      <td>4.141653</td>\n      <td>1.0</td>\n      <td>15.057590</td>\n    </tr>\n    <tr>\n      <th>404</th>\n      <td>1979-02-09</td>\n      <td>1.0</td>\n      <td>3.844294</td>\n      <td>1.0</td>\n      <td>14.831098</td>\n    </tr>\n    <tr>\n      <th>510</th>\n      <td>1979-05-26</td>\n      <td>1.0</td>\n      <td>5.547673</td>\n      <td>1.0</td>\n      <td>14.806224</td>\n    </tr>\n    <tr>\n      <th>511</th>\n      <td>1979-05-27</td>\n      <td>1.0</td>\n      <td>2.315886</td>\n      <td>1.0</td>\n      <td>10.173005</td>\n    </tr>\n    <tr>\n      <th>840</th>\n      <td>1980-04-20</td>\n      <td>1.0</td>\n      <td>4.829660</td>\n      <td>1.0</td>\n      <td>8.262087</td>\n    </tr>\n    <tr>\n      <th>896</th>\n      <td>1980-06-15</td>\n      <td>1.0</td>\n      <td>7.795319</td>\n      <td>1.0</td>\n      <td>8.453738</td>\n    </tr>\n    <tr>\n      <th>897</th>\n      <td>1980-06-16</td>\n      <td>1.0</td>\n      <td>9.638327</td>\n      <td>1.0</td>\n      <td>8.769174</td>\n    </tr>\n    <tr>\n      <th>898</th>\n      <td>1980-06-17</td>\n      <td>1.0</td>\n      <td>11.659918</td>\n      <td>1.0</td>\n      <td>9.497647</td>\n    </tr>\n    <tr>\n      <th>900</th>\n      <td>1980-06-19</td>\n      <td>1.0</td>\n      <td>8.388013</td>\n      <td>1.0</td>\n      <td>10.018832</td>\n    </tr>\n    <tr>\n      <th>901</th>\n      <td>1980-06-20</td>\n      <td>1.0</td>\n      <td>9.922993</td>\n      <td>1.0</td>\n      <td>10.820427</td>\n    </tr>\n    <tr>\n      <th>902</th>\n      <td>1980-06-21</td>\n      <td>1.0</td>\n      <td>8.939822</td>\n      <td>1.0</td>\n      <td>8.739150</td>\n    </tr>\n    <tr>\n      <th>903</th>\n      <td>1980-06-22</td>\n      <td>1.0</td>\n      <td>9.231022</td>\n      <td>1.0</td>\n      <td>9.367916</td>\n    </tr>\n  </tbody>\n</table>\n</div>"
     },
     "execution_count": 377,
     "metadata": {},
     "output_type": "execute_result"
    }
   ],
   "source": [
    "exceedances_streamflow = merged_df[(merged_df['GAUGE_7Day_Avg'] <= Q95_gauge)]\n",
    "exceedances_streamflow"
   ],
   "metadata": {
    "collapsed": false
   }
  },
  {
   "cell_type": "code",
   "execution_count": 378,
   "outputs": [
    {
     "data": {
      "text/plain": "       Datetime  Streamflow (m3/s)  160504154  GAUGE_7Day_Avg  \\\n538  1979-06-23                2.0   8.706210        1.142857   \n539  1979-06-24                2.0  10.874031        1.285714   \n1015 1980-10-12                1.0   3.493821        1.714286   \n1016 1980-10-13                1.0   3.325642        1.571429   \n1017 1980-10-14                1.0   3.179468        1.428571   \n1018 1980-10-15                1.0   3.025347        1.285714   \n\n      GEOGLOWS_7Day_Avg  \n538            5.469267  \n539            5.715474  \n1015           5.519717  \n1016           4.555990  \n1017           3.799120  \n1018           3.519808  ",
      "text/html": "<div>\n<style scoped>\n    .dataframe tbody tr th:only-of-type {\n        vertical-align: middle;\n    }\n\n    .dataframe tbody tr th {\n        vertical-align: top;\n    }\n\n    .dataframe thead th {\n        text-align: right;\n    }\n</style>\n<table border=\"1\" class=\"dataframe\">\n  <thead>\n    <tr style=\"text-align: right;\">\n      <th></th>\n      <th>Datetime</th>\n      <th>Streamflow (m3/s)</th>\n      <th>160504154</th>\n      <th>GAUGE_7Day_Avg</th>\n      <th>GEOGLOWS_7Day_Avg</th>\n    </tr>\n  </thead>\n  <tbody>\n    <tr>\n      <th>538</th>\n      <td>1979-06-23</td>\n      <td>2.0</td>\n      <td>8.706210</td>\n      <td>1.142857</td>\n      <td>5.469267</td>\n    </tr>\n    <tr>\n      <th>539</th>\n      <td>1979-06-24</td>\n      <td>2.0</td>\n      <td>10.874031</td>\n      <td>1.285714</td>\n      <td>5.715474</td>\n    </tr>\n    <tr>\n      <th>1015</th>\n      <td>1980-10-12</td>\n      <td>1.0</td>\n      <td>3.493821</td>\n      <td>1.714286</td>\n      <td>5.519717</td>\n    </tr>\n    <tr>\n      <th>1016</th>\n      <td>1980-10-13</td>\n      <td>1.0</td>\n      <td>3.325642</td>\n      <td>1.571429</td>\n      <td>4.555990</td>\n    </tr>\n    <tr>\n      <th>1017</th>\n      <td>1980-10-14</td>\n      <td>1.0</td>\n      <td>3.179468</td>\n      <td>1.428571</td>\n      <td>3.799120</td>\n    </tr>\n    <tr>\n      <th>1018</th>\n      <td>1980-10-15</td>\n      <td>1.0</td>\n      <td>3.025347</td>\n      <td>1.285714</td>\n      <td>3.519808</td>\n    </tr>\n  </tbody>\n</table>\n</div>"
     },
     "execution_count": 378,
     "metadata": {},
     "output_type": "execute_result"
    }
   ],
   "source": [
    "exceedances_160221792 = merged_df[(merged_df['GEOGLOWS_7Day_Avg'] <= Q95_geoglows)]\n",
    "exceedances_160221792"
   ],
   "metadata": {
    "collapsed": false
   }
  },
  {
   "cell_type": "code",
   "execution_count": 379,
   "outputs": [
    {
     "name": "stdout",
     "output_type": "stream",
     "text": [
      "The number of times streamflow is less than Q95_gauge and geoglows is less than Q95_geoglows is: 0\n"
     ]
    }
   ],
   "source": [
    "count = merged_df[(merged_df['GAUGE_7Day_Avg'] < Q95_gauge) & (merged_df['GEOGLOWS_7Day_Avg'] < Q95_geoglows)].shape[0]\n",
    "\n",
    "print(f\"The number of times streamflow is less than Q95_gauge and geoglows is less than Q95_geoglows is: {count}\")"
   ],
   "metadata": {
    "collapsed": false
   }
  },
  {
   "cell_type": "code",
   "execution_count": 380,
   "outputs": [],
   "source": [
    "def calculate_mape(observed, modeled):\n",
    "    return abs((observed - modeled) / observed).mean() * 100"
   ],
   "metadata": {
    "collapsed": false
   }
  },
  {
   "cell_type": "code",
   "execution_count": 381,
   "outputs": [
    {
     "data": {
      "text/plain": "       Datetime  Streamflow (m3/s)  160504154  GAUGE_7Day_Avg  \\\n166  1978-06-16                1.0   9.317058             NaN   \n167  1978-06-17                1.0  10.375706             NaN   \n168  1978-06-18                2.0  10.758689             NaN   \n169  1978-06-19                3.0  10.831696             NaN   \n170  1978-06-20                2.0  11.303539             NaN   \n...         ...                ...        ...             ...   \n1014 1980-10-11                1.0   3.671008        1.857143   \n1015 1980-10-12                1.0   3.493821        1.714286   \n1016 1980-10-13                1.0   3.325642        1.571429   \n1017 1980-10-14                1.0   3.179468        1.428571   \n1018 1980-10-15                1.0   3.025347        1.285714   \n\n      GEOGLOWS_7Day_Avg  MAPE_Streamflow_vs_160266239  MAPE_GAUGE_vs_GEOGLOWS  \n166                 NaN                    831.705761                     NaN  \n167                 NaN                    937.570572                     NaN  \n168                 NaN                    437.934446                     NaN  \n169                 NaN                    261.056519                     NaN  \n170                 NaN                    465.176964                     NaN  \n...                 ...                           ...                     ...  \n1014           6.476858                    267.100787              248.753911  \n1015           5.519717                    249.382114              221.983492  \n1016           4.555990                    232.564163              189.926620  \n1017           3.799120                    217.946792              165.938418  \n1018           3.519808                    202.534652              173.762825  \n\n[365 rows x 7 columns]",
      "text/html": "<div>\n<style scoped>\n    .dataframe tbody tr th:only-of-type {\n        vertical-align: middle;\n    }\n\n    .dataframe tbody tr th {\n        vertical-align: top;\n    }\n\n    .dataframe thead th {\n        text-align: right;\n    }\n</style>\n<table border=\"1\" class=\"dataframe\">\n  <thead>\n    <tr style=\"text-align: right;\">\n      <th></th>\n      <th>Datetime</th>\n      <th>Streamflow (m3/s)</th>\n      <th>160504154</th>\n      <th>GAUGE_7Day_Avg</th>\n      <th>GEOGLOWS_7Day_Avg</th>\n      <th>MAPE_Streamflow_vs_160266239</th>\n      <th>MAPE_GAUGE_vs_GEOGLOWS</th>\n    </tr>\n  </thead>\n  <tbody>\n    <tr>\n      <th>166</th>\n      <td>1978-06-16</td>\n      <td>1.0</td>\n      <td>9.317058</td>\n      <td>NaN</td>\n      <td>NaN</td>\n      <td>831.705761</td>\n      <td>NaN</td>\n    </tr>\n    <tr>\n      <th>167</th>\n      <td>1978-06-17</td>\n      <td>1.0</td>\n      <td>10.375706</td>\n      <td>NaN</td>\n      <td>NaN</td>\n      <td>937.570572</td>\n      <td>NaN</td>\n    </tr>\n    <tr>\n      <th>168</th>\n      <td>1978-06-18</td>\n      <td>2.0</td>\n      <td>10.758689</td>\n      <td>NaN</td>\n      <td>NaN</td>\n      <td>437.934446</td>\n      <td>NaN</td>\n    </tr>\n    <tr>\n      <th>169</th>\n      <td>1978-06-19</td>\n      <td>3.0</td>\n      <td>10.831696</td>\n      <td>NaN</td>\n      <td>NaN</td>\n      <td>261.056519</td>\n      <td>NaN</td>\n    </tr>\n    <tr>\n      <th>170</th>\n      <td>1978-06-20</td>\n      <td>2.0</td>\n      <td>11.303539</td>\n      <td>NaN</td>\n      <td>NaN</td>\n      <td>465.176964</td>\n      <td>NaN</td>\n    </tr>\n    <tr>\n      <th>...</th>\n      <td>...</td>\n      <td>...</td>\n      <td>...</td>\n      <td>...</td>\n      <td>...</td>\n      <td>...</td>\n      <td>...</td>\n    </tr>\n    <tr>\n      <th>1014</th>\n      <td>1980-10-11</td>\n      <td>1.0</td>\n      <td>3.671008</td>\n      <td>1.857143</td>\n      <td>6.476858</td>\n      <td>267.100787</td>\n      <td>248.753911</td>\n    </tr>\n    <tr>\n      <th>1015</th>\n      <td>1980-10-12</td>\n      <td>1.0</td>\n      <td>3.493821</td>\n      <td>1.714286</td>\n      <td>5.519717</td>\n      <td>249.382114</td>\n      <td>221.983492</td>\n    </tr>\n    <tr>\n      <th>1016</th>\n      <td>1980-10-13</td>\n      <td>1.0</td>\n      <td>3.325642</td>\n      <td>1.571429</td>\n      <td>4.555990</td>\n      <td>232.564163</td>\n      <td>189.926620</td>\n    </tr>\n    <tr>\n      <th>1017</th>\n      <td>1980-10-14</td>\n      <td>1.0</td>\n      <td>3.179468</td>\n      <td>1.428571</td>\n      <td>3.799120</td>\n      <td>217.946792</td>\n      <td>165.938418</td>\n    </tr>\n    <tr>\n      <th>1018</th>\n      <td>1980-10-15</td>\n      <td>1.0</td>\n      <td>3.025347</td>\n      <td>1.285714</td>\n      <td>3.519808</td>\n      <td>202.534652</td>\n      <td>173.762825</td>\n    </tr>\n  </tbody>\n</table>\n<p>365 rows × 7 columns</p>\n</div>"
     },
     "execution_count": 381,
     "metadata": {},
     "output_type": "execute_result"
    }
   ],
   "source": [
    "# Calculate MAPE for 'Streamflow (m3/s)' vs. column '160266239'\n",
    "merged_df['MAPE_Streamflow_vs_160266239'] = abs((merged_df['Streamflow (m3/s)'] - merged_df[linkno]) / merged_df['Streamflow (m3/s)']) * 100\n",
    "\n",
    "# Calculate MAPE for 'GAUGE_7Day_Avg' vs. 'GEOGLOWS_7Day_Avg'\n",
    "merged_df['MAPE_GAUGE_vs_GEOGLOWS'] = abs((merged_df['GAUGE_7Day_Avg'] - merged_df['GEOGLOWS_7Day_Avg']) / merged_df['GAUGE_7Day_Avg']) * 100\n",
    "\n",
    "merged_df"
   ],
   "metadata": {
    "collapsed": false
   }
  },
  {
   "cell_type": "code",
   "execution_count": 382,
   "outputs": [
    {
     "data": {
      "text/plain": "234.38358856298584"
     },
     "execution_count": 382,
     "metadata": {},
     "output_type": "execute_result"
    }
   ],
   "source": [
    "merged_df['MAPE_GAUGE_vs_GEOGLOWS'].mean()"
   ],
   "metadata": {
    "collapsed": false
   }
  },
  {
   "cell_type": "code",
   "execution_count": 383,
   "outputs": [
    {
     "data": {
      "text/plain": "259.71780036596203"
     },
     "execution_count": 383,
     "metadata": {},
     "output_type": "execute_result"
    }
   ],
   "source": [
    "merged_df['MAPE_Streamflow_vs_160266239'].mean()"
   ],
   "metadata": {
    "collapsed": false
   }
  },
  {
   "cell_type": "code",
   "execution_count": 384,
   "outputs": [],
   "source": [
    "filtered_df = merged_df[(merged_df['GAUGE_7Day_Avg'] < Q95_gauge) | (merged_df['GEOGLOWS_7Day_Avg'] < Q95_geoglows)]"
   ],
   "metadata": {
    "collapsed": false
   }
  },
  {
   "cell_type": "code",
   "execution_count": 385,
   "outputs": [
    {
     "data": {
      "text/plain": "       Datetime  Streamflow (m3/s)  160504154  GAUGE_7Day_Avg  \\\n538  1979-06-23                2.0   8.706210        1.142857   \n539  1979-06-24                2.0  10.874031        1.285714   \n1015 1980-10-12                1.0   3.493821        1.714286   \n1016 1980-10-13                1.0   3.325642        1.571429   \n1017 1980-10-14                1.0   3.179468        1.428571   \n1018 1980-10-15                1.0   3.025347        1.285714   \n\n      GEOGLOWS_7Day_Avg  MAPE_Streamflow_vs_160266239  MAPE_GAUGE_vs_GEOGLOWS  \n538            5.469267                    335.310507              378.560835  \n539            5.715474                    443.701553              344.536850  \n1015           5.519717                    249.382114              221.983492  \n1016           4.555990                    232.564163              189.926620  \n1017           3.799120                    217.946792              165.938418  \n1018           3.519808                    202.534652              173.762825  ",
      "text/html": "<div>\n<style scoped>\n    .dataframe tbody tr th:only-of-type {\n        vertical-align: middle;\n    }\n\n    .dataframe tbody tr th {\n        vertical-align: top;\n    }\n\n    .dataframe thead th {\n        text-align: right;\n    }\n</style>\n<table border=\"1\" class=\"dataframe\">\n  <thead>\n    <tr style=\"text-align: right;\">\n      <th></th>\n      <th>Datetime</th>\n      <th>Streamflow (m3/s)</th>\n      <th>160504154</th>\n      <th>GAUGE_7Day_Avg</th>\n      <th>GEOGLOWS_7Day_Avg</th>\n      <th>MAPE_Streamflow_vs_160266239</th>\n      <th>MAPE_GAUGE_vs_GEOGLOWS</th>\n    </tr>\n  </thead>\n  <tbody>\n    <tr>\n      <th>538</th>\n      <td>1979-06-23</td>\n      <td>2.0</td>\n      <td>8.706210</td>\n      <td>1.142857</td>\n      <td>5.469267</td>\n      <td>335.310507</td>\n      <td>378.560835</td>\n    </tr>\n    <tr>\n      <th>539</th>\n      <td>1979-06-24</td>\n      <td>2.0</td>\n      <td>10.874031</td>\n      <td>1.285714</td>\n      <td>5.715474</td>\n      <td>443.701553</td>\n      <td>344.536850</td>\n    </tr>\n    <tr>\n      <th>1015</th>\n      <td>1980-10-12</td>\n      <td>1.0</td>\n      <td>3.493821</td>\n      <td>1.714286</td>\n      <td>5.519717</td>\n      <td>249.382114</td>\n      <td>221.983492</td>\n    </tr>\n    <tr>\n      <th>1016</th>\n      <td>1980-10-13</td>\n      <td>1.0</td>\n      <td>3.325642</td>\n      <td>1.571429</td>\n      <td>4.555990</td>\n      <td>232.564163</td>\n      <td>189.926620</td>\n    </tr>\n    <tr>\n      <th>1017</th>\n      <td>1980-10-14</td>\n      <td>1.0</td>\n      <td>3.179468</td>\n      <td>1.428571</td>\n      <td>3.799120</td>\n      <td>217.946792</td>\n      <td>165.938418</td>\n    </tr>\n    <tr>\n      <th>1018</th>\n      <td>1980-10-15</td>\n      <td>1.0</td>\n      <td>3.025347</td>\n      <td>1.285714</td>\n      <td>3.519808</td>\n      <td>202.534652</td>\n      <td>173.762825</td>\n    </tr>\n  </tbody>\n</table>\n</div>"
     },
     "execution_count": 385,
     "metadata": {},
     "output_type": "execute_result"
    }
   ],
   "source": [
    "filtered_df"
   ],
   "metadata": {
    "collapsed": false
   }
  },
  {
   "cell_type": "code",
   "execution_count": 386,
   "outputs": [
    {
     "name": "stderr",
     "output_type": "stream",
     "text": [
      "/var/folders/7b/d70_71nx15l_shf2zfg77d3h0000gp/T/ipykernel_32026/2968493585.py:2: SettingWithCopyWarning: \n",
      "A value is trying to be set on a copy of a slice from a DataFrame.\n",
      "Try using .loc[row_indexer,col_indexer] = value instead\n",
      "\n",
      "See the caveats in the documentation: https://pandas.pydata.org/pandas-docs/stable/user_guide/indexing.html#returning-a-view-versus-a-copy\n",
      "  filtered_df['MAPE_Streamflow_vs_160266239'] = abs((filtered_df['Streamflow (m3/s)'] - filtered_df[linkno]) / filtered_df['Streamflow (m3/s)']) * 100\n",
      "/var/folders/7b/d70_71nx15l_shf2zfg77d3h0000gp/T/ipykernel_32026/2968493585.py:5: SettingWithCopyWarning: \n",
      "A value is trying to be set on a copy of a slice from a DataFrame.\n",
      "Try using .loc[row_indexer,col_indexer] = value instead\n",
      "\n",
      "See the caveats in the documentation: https://pandas.pydata.org/pandas-docs/stable/user_guide/indexing.html#returning-a-view-versus-a-copy\n",
      "  filtered_df['MAPE_GAUGE_vs_GEOGLOWS'] = abs((filtered_df['GAUGE_7Day_Avg'] - filtered_df['GEOGLOWS_7Day_Avg']) / filtered_df['GAUGE_7Day_Avg']) * 100\n"
     ]
    }
   ],
   "source": [
    "# Calculate MAPE for 'Streamflow (m3/s)' vs. column '160266239'\n",
    "filtered_df['MAPE_Streamflow_vs_160266239'] = abs((filtered_df['Streamflow (m3/s)'] - filtered_df[linkno]) / filtered_df['Streamflow (m3/s)']) * 100\n",
    "\n",
    "# Calculate MAPE for 'GAUGE_7Day_Avg' vs. 'GEOGLOWS_7Day_Avg'\n",
    "filtered_df['MAPE_GAUGE_vs_GEOGLOWS'] = abs((filtered_df['GAUGE_7Day_Avg'] - filtered_df['GEOGLOWS_7Day_Avg']) / filtered_df['GAUGE_7Day_Avg']) * 100"
   ],
   "metadata": {
    "collapsed": false
   }
  },
  {
   "cell_type": "code",
   "execution_count": 387,
   "outputs": [
    {
     "data": {
      "text/plain": "       Datetime  Streamflow (m3/s)  160504154  GAUGE_7Day_Avg  \\\n538  1979-06-23                2.0   8.706210        1.142857   \n539  1979-06-24                2.0  10.874031        1.285714   \n1015 1980-10-12                1.0   3.493821        1.714286   \n1016 1980-10-13                1.0   3.325642        1.571429   \n1017 1980-10-14                1.0   3.179468        1.428571   \n1018 1980-10-15                1.0   3.025347        1.285714   \n\n      GEOGLOWS_7Day_Avg  MAPE_Streamflow_vs_160266239  MAPE_GAUGE_vs_GEOGLOWS  \n538            5.469267                    335.310507              378.560835  \n539            5.715474                    443.701553              344.536850  \n1015           5.519717                    249.382114              221.983492  \n1016           4.555990                    232.564163              189.926620  \n1017           3.799120                    217.946792              165.938418  \n1018           3.519808                    202.534652              173.762825  ",
      "text/html": "<div>\n<style scoped>\n    .dataframe tbody tr th:only-of-type {\n        vertical-align: middle;\n    }\n\n    .dataframe tbody tr th {\n        vertical-align: top;\n    }\n\n    .dataframe thead th {\n        text-align: right;\n    }\n</style>\n<table border=\"1\" class=\"dataframe\">\n  <thead>\n    <tr style=\"text-align: right;\">\n      <th></th>\n      <th>Datetime</th>\n      <th>Streamflow (m3/s)</th>\n      <th>160504154</th>\n      <th>GAUGE_7Day_Avg</th>\n      <th>GEOGLOWS_7Day_Avg</th>\n      <th>MAPE_Streamflow_vs_160266239</th>\n      <th>MAPE_GAUGE_vs_GEOGLOWS</th>\n    </tr>\n  </thead>\n  <tbody>\n    <tr>\n      <th>538</th>\n      <td>1979-06-23</td>\n      <td>2.0</td>\n      <td>8.706210</td>\n      <td>1.142857</td>\n      <td>5.469267</td>\n      <td>335.310507</td>\n      <td>378.560835</td>\n    </tr>\n    <tr>\n      <th>539</th>\n      <td>1979-06-24</td>\n      <td>2.0</td>\n      <td>10.874031</td>\n      <td>1.285714</td>\n      <td>5.715474</td>\n      <td>443.701553</td>\n      <td>344.536850</td>\n    </tr>\n    <tr>\n      <th>1015</th>\n      <td>1980-10-12</td>\n      <td>1.0</td>\n      <td>3.493821</td>\n      <td>1.714286</td>\n      <td>5.519717</td>\n      <td>249.382114</td>\n      <td>221.983492</td>\n    </tr>\n    <tr>\n      <th>1016</th>\n      <td>1980-10-13</td>\n      <td>1.0</td>\n      <td>3.325642</td>\n      <td>1.571429</td>\n      <td>4.555990</td>\n      <td>232.564163</td>\n      <td>189.926620</td>\n    </tr>\n    <tr>\n      <th>1017</th>\n      <td>1980-10-14</td>\n      <td>1.0</td>\n      <td>3.179468</td>\n      <td>1.428571</td>\n      <td>3.799120</td>\n      <td>217.946792</td>\n      <td>165.938418</td>\n    </tr>\n    <tr>\n      <th>1018</th>\n      <td>1980-10-15</td>\n      <td>1.0</td>\n      <td>3.025347</td>\n      <td>1.285714</td>\n      <td>3.519808</td>\n      <td>202.534652</td>\n      <td>173.762825</td>\n    </tr>\n  </tbody>\n</table>\n</div>"
     },
     "execution_count": 387,
     "metadata": {},
     "output_type": "execute_result"
    }
   ],
   "source": [
    "filtered_df"
   ],
   "metadata": {
    "collapsed": false
   }
  },
  {
   "cell_type": "code",
   "execution_count": 388,
   "outputs": [
    {
     "data": {
      "text/plain": "245.7848400600029"
     },
     "execution_count": 388,
     "metadata": {},
     "output_type": "execute_result"
    }
   ],
   "source": [
    "filtered_df['MAPE_GAUGE_vs_GEOGLOWS'].mean()"
   ],
   "metadata": {
    "collapsed": false
   }
  },
  {
   "cell_type": "code",
   "execution_count": 389,
   "outputs": [
    {
     "data": {
      "text/plain": "280.23996353149414"
     },
     "execution_count": 389,
     "metadata": {},
     "output_type": "execute_result"
    }
   ],
   "source": [
    "filtered_df['MAPE_Streamflow_vs_160266239'].mean()"
   ],
   "metadata": {
    "collapsed": false
   }
  },
  {
   "cell_type": "code",
   "execution_count": null,
   "outputs": [],
   "source": [],
   "metadata": {
    "collapsed": false,
    "pycharm": {
     "is_executing": true
    }
   }
  },
  {
   "cell_type": "code",
   "execution_count": 312,
   "outputs": [],
   "source": [],
   "metadata": {
    "collapsed": false
   }
  }
 ],
 "metadata": {
  "kernelspec": {
   "display_name": "Python 3",
   "language": "python",
   "name": "python3"
  },
  "language_info": {
   "codemirror_mode": {
    "name": "ipython",
    "version": 2
   },
   "file_extension": ".py",
   "mimetype": "text/x-python",
   "name": "python",
   "nbconvert_exporter": "python",
   "pygments_lexer": "ipython2",
   "version": "2.7.6"
  }
 },
 "nbformat": 4,
 "nbformat_minor": 0
}
