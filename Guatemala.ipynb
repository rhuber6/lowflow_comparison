{
 "cells": [
  {
   "cell_type": "code",
   "execution_count": 1,
   "metadata": {
    "collapsed": true
   },
   "outputs": [],
   "source": [
    "import geopandas as gpd\n",
    "import pandas as pd\n",
    "import os"
   ]
  },
  {
   "cell_type": "code",
   "execution_count": 2,
   "outputs": [],
   "source": [
    "streams_716 = gpd.read_file('/Volumes/EB406_T7_2/source_streams/streams_716.gpkg')"
   ],
   "metadata": {
    "collapsed": false
   }
  },
  {
   "cell_type": "code",
   "execution_count": 3,
   "outputs": [],
   "source": [
    "streams_701 = gpd.read_file('/Volumes/EB406_T7_2/source_streams/streams_701.gpkg')"
   ],
   "metadata": {
    "collapsed": false
   }
  },
  {
   "cell_type": "code",
   "execution_count": 4,
   "outputs": [],
   "source": [
    "country_table = pd.read_parquet(\"s3://geoglows-v2/tables/v2-countries-table.parquet\")"
   ],
   "metadata": {
    "collapsed": false
   }
  },
  {
   "cell_type": "code",
   "execution_count": 7,
   "outputs": [
    {
     "data": {
      "text/plain": "            LINKNO        lon        lat RiverCountry OutletCountry\n5878930  710140399 -89.263111  14.547778     Honduras   El Salvador\n5878931  710142383 -89.246222  14.535667     Honduras   El Salvador\n5878941  710090799 -89.167222  14.525333     Honduras   El Salvador\n5878970  710146351 -89.237222  14.526444     Honduras   El Salvador\n5878975  710154288 -89.230222  14.516444     Honduras   El Salvador\n...            ...        ...        ...          ...           ...\n6645054  770002951 -86.857333  13.372778     Honduras     Nicaragua\n6645055  770008151 -86.704667  13.388000     Honduras     Nicaragua\n6645066  770079911 -86.857333  13.372778     Honduras     Nicaragua\n6645071  770086150 -86.869778  13.382000     Honduras     Nicaragua\n6645125  770078871 -86.833000  13.360667     Honduras     Nicaragua\n\n[6109 rows x 5 columns]",
      "text/html": "<div>\n<style scoped>\n    .dataframe tbody tr th:only-of-type {\n        vertical-align: middle;\n    }\n\n    .dataframe tbody tr th {\n        vertical-align: top;\n    }\n\n    .dataframe thead th {\n        text-align: right;\n    }\n</style>\n<table border=\"1\" class=\"dataframe\">\n  <thead>\n    <tr style=\"text-align: right;\">\n      <th></th>\n      <th>LINKNO</th>\n      <th>lon</th>\n      <th>lat</th>\n      <th>RiverCountry</th>\n      <th>OutletCountry</th>\n    </tr>\n  </thead>\n  <tbody>\n    <tr>\n      <th>5878930</th>\n      <td>710140399</td>\n      <td>-89.263111</td>\n      <td>14.547778</td>\n      <td>Honduras</td>\n      <td>El Salvador</td>\n    </tr>\n    <tr>\n      <th>5878931</th>\n      <td>710142383</td>\n      <td>-89.246222</td>\n      <td>14.535667</td>\n      <td>Honduras</td>\n      <td>El Salvador</td>\n    </tr>\n    <tr>\n      <th>5878941</th>\n      <td>710090799</td>\n      <td>-89.167222</td>\n      <td>14.525333</td>\n      <td>Honduras</td>\n      <td>El Salvador</td>\n    </tr>\n    <tr>\n      <th>5878970</th>\n      <td>710146351</td>\n      <td>-89.237222</td>\n      <td>14.526444</td>\n      <td>Honduras</td>\n      <td>El Salvador</td>\n    </tr>\n    <tr>\n      <th>5878975</th>\n      <td>710154288</td>\n      <td>-89.230222</td>\n      <td>14.516444</td>\n      <td>Honduras</td>\n      <td>El Salvador</td>\n    </tr>\n    <tr>\n      <th>...</th>\n      <td>...</td>\n      <td>...</td>\n      <td>...</td>\n      <td>...</td>\n      <td>...</td>\n    </tr>\n    <tr>\n      <th>6645054</th>\n      <td>770002951</td>\n      <td>-86.857333</td>\n      <td>13.372778</td>\n      <td>Honduras</td>\n      <td>Nicaragua</td>\n    </tr>\n    <tr>\n      <th>6645055</th>\n      <td>770008151</td>\n      <td>-86.704667</td>\n      <td>13.388000</td>\n      <td>Honduras</td>\n      <td>Nicaragua</td>\n    </tr>\n    <tr>\n      <th>6645066</th>\n      <td>770079911</td>\n      <td>-86.857333</td>\n      <td>13.372778</td>\n      <td>Honduras</td>\n      <td>Nicaragua</td>\n    </tr>\n    <tr>\n      <th>6645071</th>\n      <td>770086150</td>\n      <td>-86.869778</td>\n      <td>13.382000</td>\n      <td>Honduras</td>\n      <td>Nicaragua</td>\n    </tr>\n    <tr>\n      <th>6645125</th>\n      <td>770078871</td>\n      <td>-86.833000</td>\n      <td>13.360667</td>\n      <td>Honduras</td>\n      <td>Nicaragua</td>\n    </tr>\n  </tbody>\n</table>\n<p>6109 rows × 5 columns</p>\n</div>"
     },
     "execution_count": 7,
     "metadata": {},
     "output_type": "execute_result"
    }
   ],
   "source": [
    "countries = [\"Honduras\"]\n",
    "\n",
    "filtered_df = country_table[country_table[\"RiverCountry\"].isin(countries)]\n",
    "filtered_df"
   ],
   "metadata": {
    "collapsed": false
   }
  },
  {
   "cell_type": "code",
   "execution_count": 6,
   "outputs": [
    {
     "name": "stdout",
     "output_type": "stream",
     "text": [
      "          LINKNO   DSLINKNO  strmOrder  USContArea  DSContArea TDXHydroRegion  \\\n",
      "11731  710090799  710100720          2  11651967.5  24292700.0     7020000010   \n",
      "11742  710106672  710134450          2  13608080.5  25981688.0     7020000010   \n",
      "11763  710108658  710124530          2  10063584.0  18348356.0     7020000010   \n",
      "11770  710080883  710138418          2  10007754.5  12735672.0     7020000010   \n",
      "11780  710094772  710096756          2  12328972.0  37407020.0     7020000010   \n",
      "\n",
      "       VPUCode  TopologicalOrder  LengthGeodesicMeters  TerminalLink  musk_k  \\\n",
      "11731      701            205851           7266.700747     710078961   29067   \n",
      "11742      701            205862           5018.297115     710078961   20073   \n",
      "11763      701            205883           1248.997376     710078961    4996   \n",
      "11770      701            205890           1064.321073     710078961    4257   \n",
      "11780      701            205901           5158.718796     710078961   20635   \n",
      "\n",
      "       musk_x                                           geometry  \n",
      "11731    0.25  MULTILINESTRING ((-9921559.887 1637009.857, -9...  \n",
      "11742    0.25  MULTILINESTRING ((-9921658.838 1633789.887, -9...  \n",
      "11763    0.25  MULTILINESTRING ((-9883389.671 1629765.498, -9...  \n",
      "11770    0.25  MULTILINESTRING ((-9926989.804 1628807.404, -9...  \n",
      "11780    0.25  MULTILINESTRING ((-9919296.391 1625371.335, -9...  \n"
     ]
    }
   ],
   "source": [
    "# Subset the GeoDataFrame by matching LINKNO values\n",
    "streams_701_subset = streams_701[streams_701['LINKNO'].isin(filtered_df['LINKNO'])]\n",
    "\n",
    "# Check the result\n",
    "print(streams_701_subset.head())\n"
   ],
   "metadata": {
    "collapsed": false
   }
  },
  {
   "cell_type": "code",
   "execution_count": 8,
   "outputs": [
    {
     "name": "stdout",
     "output_type": "stream",
     "text": [
      "         LINKNO   DSLINKNO  strmOrder  USContArea  DSContArea TDXHydroRegion  \\\n",
      "4451  770117261  770117260          2  10621312.5  38076848.0     7020047840   \n",
      "4468  770117262  770138061          2  11373902.0  17940898.0     7020047840   \n",
      "4488  770141183  770153661          2   9788268.5  31235104.0     7020047840   \n",
      "4489  770142223  770194223          2   9987310.5  34388772.0     7020047840   \n",
      "4490  770143263  770144303          2   9860901.5  18526852.0     7020047840   \n",
      "\n",
      "      VPUCode  TopologicalOrder  LengthGeodesicMeters  TerminalLink  musk_k  \\\n",
      "4451      716            163433           6619.159044     770120380   26477   \n",
      "4468      716            163454           7380.303779     770138061   29521   \n",
      "4488      716            163476          12549.433445     770171341   50198   \n",
      "4489      716            163477           2729.899843     770171341   10920   \n",
      "4490      716            163478           2481.656870     770138061    9927   \n",
      "\n",
      "      musk_x                                           geometry  \n",
      "4451    0.25  MULTILINESTRING ((-9554712.690 1796887.912, -9...  \n",
      "4468    0.25  MULTILINESTRING ((-9464642.853 1795498.756, -9...  \n",
      "4488    0.25  MULTILINESTRING ((-9543246.782 1790303.017, -9...  \n",
      "4489    0.25  MULTILINESTRING ((-9535046.246 1791897.626, -9...  \n",
      "4490    0.25  MULTILINESTRING ((-9469652.230 1790907.413, -9...  \n"
     ]
    }
   ],
   "source": [
    "# Subset the GeoDataFrame by matching LINKNO values\n",
    "streams_716_subset = streams_716[streams_716['LINKNO'].isin(filtered_df['LINKNO'])]\n",
    "\n",
    "# Check the result\n",
    "print(streams_716_subset.head())\n"
   ],
   "metadata": {
    "collapsed": false
   }
  },
  {
   "cell_type": "code",
   "execution_count": 5,
   "outputs": [
    {
     "data": {
      "text/plain": "            LINKNO        lon        lat RiverCountry OutletCountry\n5878930  710140399 -89.263111  14.547778     Honduras   El Salvador\n5878931  710142383 -89.246222  14.535667     Honduras   El Salvador\n5878941  710090799 -89.167222  14.525333     Honduras   El Salvador\n5878970  710146351 -89.237222  14.526444     Honduras   El Salvador\n5878975  710154288 -89.230222  14.516444     Honduras   El Salvador\n...            ...        ...        ...          ...           ...\n6645054  770002951 -86.857333  13.372778     Honduras     Nicaragua\n6645055  770008151 -86.704667  13.388000     Honduras     Nicaragua\n6645066  770079911 -86.857333  13.372778     Honduras     Nicaragua\n6645071  770086150 -86.869778  13.382000     Honduras     Nicaragua\n6645125  770078871 -86.833000  13.360667     Honduras     Nicaragua\n\n[6109 rows x 5 columns]",
      "text/html": "<div>\n<style scoped>\n    .dataframe tbody tr th:only-of-type {\n        vertical-align: middle;\n    }\n\n    .dataframe tbody tr th {\n        vertical-align: top;\n    }\n\n    .dataframe thead th {\n        text-align: right;\n    }\n</style>\n<table border=\"1\" class=\"dataframe\">\n  <thead>\n    <tr style=\"text-align: right;\">\n      <th></th>\n      <th>LINKNO</th>\n      <th>lon</th>\n      <th>lat</th>\n      <th>RiverCountry</th>\n      <th>OutletCountry</th>\n    </tr>\n  </thead>\n  <tbody>\n    <tr>\n      <th>5878930</th>\n      <td>710140399</td>\n      <td>-89.263111</td>\n      <td>14.547778</td>\n      <td>Honduras</td>\n      <td>El Salvador</td>\n    </tr>\n    <tr>\n      <th>5878931</th>\n      <td>710142383</td>\n      <td>-89.246222</td>\n      <td>14.535667</td>\n      <td>Honduras</td>\n      <td>El Salvador</td>\n    </tr>\n    <tr>\n      <th>5878941</th>\n      <td>710090799</td>\n      <td>-89.167222</td>\n      <td>14.525333</td>\n      <td>Honduras</td>\n      <td>El Salvador</td>\n    </tr>\n    <tr>\n      <th>5878970</th>\n      <td>710146351</td>\n      <td>-89.237222</td>\n      <td>14.526444</td>\n      <td>Honduras</td>\n      <td>El Salvador</td>\n    </tr>\n    <tr>\n      <th>5878975</th>\n      <td>710154288</td>\n      <td>-89.230222</td>\n      <td>14.516444</td>\n      <td>Honduras</td>\n      <td>El Salvador</td>\n    </tr>\n    <tr>\n      <th>...</th>\n      <td>...</td>\n      <td>...</td>\n      <td>...</td>\n      <td>...</td>\n      <td>...</td>\n    </tr>\n    <tr>\n      <th>6645054</th>\n      <td>770002951</td>\n      <td>-86.857333</td>\n      <td>13.372778</td>\n      <td>Honduras</td>\n      <td>Nicaragua</td>\n    </tr>\n    <tr>\n      <th>6645055</th>\n      <td>770008151</td>\n      <td>-86.704667</td>\n      <td>13.388000</td>\n      <td>Honduras</td>\n      <td>Nicaragua</td>\n    </tr>\n    <tr>\n      <th>6645066</th>\n      <td>770079911</td>\n      <td>-86.857333</td>\n      <td>13.372778</td>\n      <td>Honduras</td>\n      <td>Nicaragua</td>\n    </tr>\n    <tr>\n      <th>6645071</th>\n      <td>770086150</td>\n      <td>-86.869778</td>\n      <td>13.382000</td>\n      <td>Honduras</td>\n      <td>Nicaragua</td>\n    </tr>\n    <tr>\n      <th>6645125</th>\n      <td>770078871</td>\n      <td>-86.833000</td>\n      <td>13.360667</td>\n      <td>Honduras</td>\n      <td>Nicaragua</td>\n    </tr>\n  </tbody>\n</table>\n<p>6109 rows × 5 columns</p>\n</div>"
     },
     "execution_count": 5,
     "metadata": {},
     "output_type": "execute_result"
    }
   ],
   "source": [
    "countries = [\"Honduras\"]\n",
    "\n",
    "filtered_df = country_table[country_table[\"RiverCountry\"].isin(countries)]\n",
    "filtered_df"
   ],
   "metadata": {
    "collapsed": false
   }
  },
  {
   "cell_type": "code",
   "execution_count": 9,
   "outputs": [],
   "source": [
    "honduras_streams = pd.concat([streams_716_subset, streams_701_subset], ignore_index=True)\n"
   ],
   "metadata": {
    "collapsed": false
   }
  },
  {
   "cell_type": "code",
   "execution_count": 10,
   "outputs": [],
   "source": [
    "Honduras_Basins = gpd.read_file('/Users/rachel1/Downloads/Subcuencas/Cuencas Honduras/Cuencas_Honduras.shp')"
   ],
   "metadata": {
    "collapsed": false
   }
  },
  {
   "cell_type": "code",
   "execution_count": null,
   "outputs": [],
   "source": [],
   "metadata": {
    "collapsed": false
   }
  },
  {
   "cell_type": "code",
   "execution_count": null,
   "outputs": [],
   "source": [
    "honduras_streams = honduras_streams.to_crs(Honduras_Basins.crs)\n",
    "intersection = gpd.overlay(honduras_streams, Honduras_Basins, how='intersection')"
   ],
   "metadata": {
    "collapsed": false,
    "pycharm": {
     "is_executing": true
    }
   }
  },
  {
   "cell_type": "code",
   "execution_count": null,
   "outputs": [],
   "source": [
    "intersection"
   ],
   "metadata": {
    "collapsed": false,
    "pycharm": {
     "is_executing": true
    }
   }
  },
  {
   "cell_type": "code",
   "execution_count": null,
   "outputs": [],
   "source": [
    "highest_value_intersection = intersection.loc[intersection.groupby(\"Subbasin\")[\"DSContArea\"].idxmax()]"
   ],
   "metadata": {
    "collapsed": false,
    "pycharm": {
     "is_executing": true
    }
   }
  },
  {
   "cell_type": "code",
   "execution_count": null,
   "outputs": [],
   "source": [
    "highest_value_intersection.columns"
   ],
   "metadata": {
    "collapsed": false,
    "pycharm": {
     "is_executing": true
    }
   }
  },
  {
   "cell_type": "code",
   "execution_count": 14,
   "outputs": [],
   "source": [
    "# Drop columns (excluding 'geometry')\n",
    "columns_to_drop = ['strmOrder', 'TDXHydroRegion', 'VPUCode', 'TopologicalOrder', 'LengthGeodesicMeters',\n",
    "       'TerminalLink', 'musk_k', 'musk_x', 'OBJECTID', 'MAIN_BASIN',\n",
    "       'Shape_Leng', 'Shape_Area', 'Basin_Name', 'Area_Km', '_mean', 'layer',\n",
    "       'path']  # Replace with the actual column names you want to drop\n",
    "highest_value_intersection = highest_value_intersection.drop(columns=columns_to_drop)\n"
   ],
   "metadata": {
    "collapsed": false
   }
  },
  {
   "cell_type": "code",
   "execution_count": 15,
   "outputs": [],
   "source": [
    "highest_value_intersection.to_file('/Users/rachel1/Downloads/basin_intersect.gpkg')"
   ],
   "metadata": {
    "collapsed": false
   }
  },
  {
   "cell_type": "code",
   "execution_count": null,
   "outputs": [],
   "source": [],
   "metadata": {
    "collapsed": false
   }
  }
 ],
 "metadata": {
  "kernelspec": {
   "display_name": "Python 3",
   "language": "python",
   "name": "python3"
  },
  "language_info": {
   "codemirror_mode": {
    "name": "ipython",
    "version": 2
   },
   "file_extension": ".py",
   "mimetype": "text/x-python",
   "name": "python",
   "nbconvert_exporter": "python",
   "pygments_lexer": "ipython2",
   "version": "2.7.6"
  }
 },
 "nbformat": 4,
 "nbformat_minor": 0
}
