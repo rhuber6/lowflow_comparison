{
 "cells": [
  {
   "cell_type": "code",
   "execution_count": 1,
   "metadata": {
    "collapsed": true
   },
   "outputs": [],
   "source": [
    "import geopandas as gpd\n",
    "import pandas as pd\n",
    "import os"
   ]
  },
  {
   "cell_type": "code",
   "execution_count": 2,
   "outputs": [],
   "source": [
    "Kenya_Basins = gpd.read_file('/Users/rachel1/Downloads/Ken_subbasin_geonode-selected/kenya_sub_basins_isc_v1.shp')\n",
    "Kenya_Streams = gpd.read_file('/Users/rachel1/Downloads/kenya_geopackage.gpkg')"
   ],
   "metadata": {
    "collapsed": false
   }
  },
  {
   "cell_type": "code",
   "execution_count": 3,
   "outputs": [
    {
     "data": {
      "text/plain": "          LINKNO   DSLINKNO  strmOrder    USContArea    DSContArea  \\\n0      160285817  160397944          2  1.055582e+07  2.789579e+07   \n1      160327865  160329033          2  1.105426e+07  4.002828e+07   \n2      160241433  160329033          2  1.053796e+07  2.184194e+07   \n3      160270634  160271802          2  1.226423e+07  2.507134e+07   \n4      160272970  160318522          2  1.031805e+07  1.357462e+07   \n...          ...        ...        ...           ...           ...   \n48817  110799733  110773494          7  1.001024e+11  1.001382e+11   \n48818  110773494  110774806          8  1.431473e+11  1.431677e+11   \n48819  110774806  110776118          8  1.431932e+11  1.432173e+11   \n48820  110776118  110777430          8  1.432340e+11  1.432554e+11   \n48821  110777430         -1          8  1.472204e+11  1.472536e+11   \n\n      TDXHydroRegion  VPUCode  TopologicalOrder  LengthGeodesicMeters  \\\n0         1020034170      122            196999           4542.154940   \n1         1020034170      122            197002           1254.259531   \n2         1020034170      122            197003           5309.007002   \n3         1020034170      122            197040           2640.816698   \n4         1020034170      122            197041            642.557955   \n...              ...      ...               ...                   ...   \n48817     1020000010      103            350946           1062.542617   \n48818     1020000010      103            350949            922.411445   \n48819     1020000010      103            350952            965.022401   \n48820     1020000010      103            350955            505.146304   \n48821     1020000010      103            350958           1164.198336   \n\n       TerminalLink  ...  OBJECTID  MAIN_BASIN  Shape_Leng     Shape_Area  \\\n0         160064246  ...         2           2    31.69198  130151.249335   \n1         160064246  ...         2           2    31.69198  130151.249335   \n2         160064246  ...         2           2    31.69198  130151.249335   \n3         160064246  ...         2           2    31.69198  130151.249335   \n4         160064246  ...         2           2    31.69198  130151.249335   \n...             ...  ...       ...         ...         ...            ...   \n48817     110777430  ...         2           2    31.69198  130151.249335   \n48818     110777430  ...         2           2    31.69198  130151.249335   \n48819     110777430  ...         2           2    31.69198  130151.249335   \n48820     110777430  ...         2           2    31.69198  130151.249335   \n48821     110777430  ...         2           2    31.69198  130151.249335   \n\n       Basin_Name  Area_Km       _mean         layer  \\\n0            RVBA   131562  502.106903  Intersection   \n1            RVBA   131562  502.106903  Intersection   \n2            RVBA   131562  502.106903  Intersection   \n3            RVBA   131562  502.106903  Intersection   \n4            RVBA   131562  502.106903  Intersection   \n...           ...      ...         ...           ...   \n48817        RVBA   131562  502.106903  Intersection   \n48818        RVBA   131562  502.106903  Intersection   \n48819        RVBA   131562  502.106903  Intersection   \n48820        RVBA   131562  502.106903  Intersection   \n48821        RVBA   131562  502.106903  Intersection   \n\n                                                    path  \\\n0      MultiLineString?crs=EPSG:3857&field=fid:long(0...   \n1      MultiLineString?crs=EPSG:3857&field=fid:long(0...   \n2      MultiLineString?crs=EPSG:3857&field=fid:long(0...   \n3      MultiLineString?crs=EPSG:3857&field=fid:long(0...   \n4      MultiLineString?crs=EPSG:3857&field=fid:long(0...   \n...                                                  ...   \n48817  MultiLineString?crs=EPSG:3857&field=fid:long(0...   \n48818  MultiLineString?crs=EPSG:3857&field=fid:long(0...   \n48819  MultiLineString?crs=EPSG:3857&field=fid:long(0...   \n48820  MultiLineString?crs=EPSG:3857&field=fid:long(0...   \n48821  MultiLineString?crs=EPSG:3857&field=fid:long(0...   \n\n                                                geometry  \n0      MULTILINESTRING ((3908835.493 715146.608, 3908...  \n1      MULTILINESTRING ((3957222.365 715810.361, 3957...  \n2      MULTILINESTRING ((3960481.973 717049.255, 3960...  \n3      MULTILINESTRING ((3917407.094 712872.989, 3917...  \n4      MULTILINESTRING ((3926745.562 713109.467, 3926...  \n...                                                  ...  \n48817  MULTILINESTRING ((4027353.644 377791.693, 4027...  \n48818  MULTILINESTRING ((4028009.193 377172.168, 4027...  \n48819  MULTILINESTRING ((4028887.380 376998.702, 4028...  \n48820  MULTILINESTRING ((4029246.076 376639.379, 4029...  \n48821  MULTILINESTRING ((4030087.156 375871.177, 4030...  \n\n[48822 rows x 22 columns]",
      "text/html": "<div>\n<style scoped>\n    .dataframe tbody tr th:only-of-type {\n        vertical-align: middle;\n    }\n\n    .dataframe tbody tr th {\n        vertical-align: top;\n    }\n\n    .dataframe thead th {\n        text-align: right;\n    }\n</style>\n<table border=\"1\" class=\"dataframe\">\n  <thead>\n    <tr style=\"text-align: right;\">\n      <th></th>\n      <th>LINKNO</th>\n      <th>DSLINKNO</th>\n      <th>strmOrder</th>\n      <th>USContArea</th>\n      <th>DSContArea</th>\n      <th>TDXHydroRegion</th>\n      <th>VPUCode</th>\n      <th>TopologicalOrder</th>\n      <th>LengthGeodesicMeters</th>\n      <th>TerminalLink</th>\n      <th>...</th>\n      <th>OBJECTID</th>\n      <th>MAIN_BASIN</th>\n      <th>Shape_Leng</th>\n      <th>Shape_Area</th>\n      <th>Basin_Name</th>\n      <th>Area_Km</th>\n      <th>_mean</th>\n      <th>layer</th>\n      <th>path</th>\n      <th>geometry</th>\n    </tr>\n  </thead>\n  <tbody>\n    <tr>\n      <th>0</th>\n      <td>160285817</td>\n      <td>160397944</td>\n      <td>2</td>\n      <td>1.055582e+07</td>\n      <td>2.789579e+07</td>\n      <td>1020034170</td>\n      <td>122</td>\n      <td>196999</td>\n      <td>4542.154940</td>\n      <td>160064246</td>\n      <td>...</td>\n      <td>2</td>\n      <td>2</td>\n      <td>31.69198</td>\n      <td>130151.249335</td>\n      <td>RVBA</td>\n      <td>131562</td>\n      <td>502.106903</td>\n      <td>Intersection</td>\n      <td>MultiLineString?crs=EPSG:3857&amp;field=fid:long(0...</td>\n      <td>MULTILINESTRING ((3908835.493 715146.608, 3908...</td>\n    </tr>\n    <tr>\n      <th>1</th>\n      <td>160327865</td>\n      <td>160329033</td>\n      <td>2</td>\n      <td>1.105426e+07</td>\n      <td>4.002828e+07</td>\n      <td>1020034170</td>\n      <td>122</td>\n      <td>197002</td>\n      <td>1254.259531</td>\n      <td>160064246</td>\n      <td>...</td>\n      <td>2</td>\n      <td>2</td>\n      <td>31.69198</td>\n      <td>130151.249335</td>\n      <td>RVBA</td>\n      <td>131562</td>\n      <td>502.106903</td>\n      <td>Intersection</td>\n      <td>MultiLineString?crs=EPSG:3857&amp;field=fid:long(0...</td>\n      <td>MULTILINESTRING ((3957222.365 715810.361, 3957...</td>\n    </tr>\n    <tr>\n      <th>2</th>\n      <td>160241433</td>\n      <td>160329033</td>\n      <td>2</td>\n      <td>1.053796e+07</td>\n      <td>2.184194e+07</td>\n      <td>1020034170</td>\n      <td>122</td>\n      <td>197003</td>\n      <td>5309.007002</td>\n      <td>160064246</td>\n      <td>...</td>\n      <td>2</td>\n      <td>2</td>\n      <td>31.69198</td>\n      <td>130151.249335</td>\n      <td>RVBA</td>\n      <td>131562</td>\n      <td>502.106903</td>\n      <td>Intersection</td>\n      <td>MultiLineString?crs=EPSG:3857&amp;field=fid:long(0...</td>\n      <td>MULTILINESTRING ((3960481.973 717049.255, 3960...</td>\n    </tr>\n    <tr>\n      <th>3</th>\n      <td>160270634</td>\n      <td>160271802</td>\n      <td>2</td>\n      <td>1.226423e+07</td>\n      <td>2.507134e+07</td>\n      <td>1020034170</td>\n      <td>122</td>\n      <td>197040</td>\n      <td>2640.816698</td>\n      <td>160064246</td>\n      <td>...</td>\n      <td>2</td>\n      <td>2</td>\n      <td>31.69198</td>\n      <td>130151.249335</td>\n      <td>RVBA</td>\n      <td>131562</td>\n      <td>502.106903</td>\n      <td>Intersection</td>\n      <td>MultiLineString?crs=EPSG:3857&amp;field=fid:long(0...</td>\n      <td>MULTILINESTRING ((3917407.094 712872.989, 3917...</td>\n    </tr>\n    <tr>\n      <th>4</th>\n      <td>160272970</td>\n      <td>160318522</td>\n      <td>2</td>\n      <td>1.031805e+07</td>\n      <td>1.357462e+07</td>\n      <td>1020034170</td>\n      <td>122</td>\n      <td>197041</td>\n      <td>642.557955</td>\n      <td>160064246</td>\n      <td>...</td>\n      <td>2</td>\n      <td>2</td>\n      <td>31.69198</td>\n      <td>130151.249335</td>\n      <td>RVBA</td>\n      <td>131562</td>\n      <td>502.106903</td>\n      <td>Intersection</td>\n      <td>MultiLineString?crs=EPSG:3857&amp;field=fid:long(0...</td>\n      <td>MULTILINESTRING ((3926745.562 713109.467, 3926...</td>\n    </tr>\n    <tr>\n      <th>...</th>\n      <td>...</td>\n      <td>...</td>\n      <td>...</td>\n      <td>...</td>\n      <td>...</td>\n      <td>...</td>\n      <td>...</td>\n      <td>...</td>\n      <td>...</td>\n      <td>...</td>\n      <td>...</td>\n      <td>...</td>\n      <td>...</td>\n      <td>...</td>\n      <td>...</td>\n      <td>...</td>\n      <td>...</td>\n      <td>...</td>\n      <td>...</td>\n      <td>...</td>\n      <td>...</td>\n    </tr>\n    <tr>\n      <th>48817</th>\n      <td>110799733</td>\n      <td>110773494</td>\n      <td>7</td>\n      <td>1.001024e+11</td>\n      <td>1.001382e+11</td>\n      <td>1020000010</td>\n      <td>103</td>\n      <td>350946</td>\n      <td>1062.542617</td>\n      <td>110777430</td>\n      <td>...</td>\n      <td>2</td>\n      <td>2</td>\n      <td>31.69198</td>\n      <td>130151.249335</td>\n      <td>RVBA</td>\n      <td>131562</td>\n      <td>502.106903</td>\n      <td>Intersection</td>\n      <td>MultiLineString?crs=EPSG:3857&amp;field=fid:long(0...</td>\n      <td>MULTILINESTRING ((4027353.644 377791.693, 4027...</td>\n    </tr>\n    <tr>\n      <th>48818</th>\n      <td>110773494</td>\n      <td>110774806</td>\n      <td>8</td>\n      <td>1.431473e+11</td>\n      <td>1.431677e+11</td>\n      <td>1020000010</td>\n      <td>103</td>\n      <td>350949</td>\n      <td>922.411445</td>\n      <td>110777430</td>\n      <td>...</td>\n      <td>2</td>\n      <td>2</td>\n      <td>31.69198</td>\n      <td>130151.249335</td>\n      <td>RVBA</td>\n      <td>131562</td>\n      <td>502.106903</td>\n      <td>Intersection</td>\n      <td>MultiLineString?crs=EPSG:3857&amp;field=fid:long(0...</td>\n      <td>MULTILINESTRING ((4028009.193 377172.168, 4027...</td>\n    </tr>\n    <tr>\n      <th>48819</th>\n      <td>110774806</td>\n      <td>110776118</td>\n      <td>8</td>\n      <td>1.431932e+11</td>\n      <td>1.432173e+11</td>\n      <td>1020000010</td>\n      <td>103</td>\n      <td>350952</td>\n      <td>965.022401</td>\n      <td>110777430</td>\n      <td>...</td>\n      <td>2</td>\n      <td>2</td>\n      <td>31.69198</td>\n      <td>130151.249335</td>\n      <td>RVBA</td>\n      <td>131562</td>\n      <td>502.106903</td>\n      <td>Intersection</td>\n      <td>MultiLineString?crs=EPSG:3857&amp;field=fid:long(0...</td>\n      <td>MULTILINESTRING ((4028887.380 376998.702, 4028...</td>\n    </tr>\n    <tr>\n      <th>48820</th>\n      <td>110776118</td>\n      <td>110777430</td>\n      <td>8</td>\n      <td>1.432340e+11</td>\n      <td>1.432554e+11</td>\n      <td>1020000010</td>\n      <td>103</td>\n      <td>350955</td>\n      <td>505.146304</td>\n      <td>110777430</td>\n      <td>...</td>\n      <td>2</td>\n      <td>2</td>\n      <td>31.69198</td>\n      <td>130151.249335</td>\n      <td>RVBA</td>\n      <td>131562</td>\n      <td>502.106903</td>\n      <td>Intersection</td>\n      <td>MultiLineString?crs=EPSG:3857&amp;field=fid:long(0...</td>\n      <td>MULTILINESTRING ((4029246.076 376639.379, 4029...</td>\n    </tr>\n    <tr>\n      <th>48821</th>\n      <td>110777430</td>\n      <td>-1</td>\n      <td>8</td>\n      <td>1.472204e+11</td>\n      <td>1.472536e+11</td>\n      <td>1020000010</td>\n      <td>103</td>\n      <td>350958</td>\n      <td>1164.198336</td>\n      <td>110777430</td>\n      <td>...</td>\n      <td>2</td>\n      <td>2</td>\n      <td>31.69198</td>\n      <td>130151.249335</td>\n      <td>RVBA</td>\n      <td>131562</td>\n      <td>502.106903</td>\n      <td>Intersection</td>\n      <td>MultiLineString?crs=EPSG:3857&amp;field=fid:long(0...</td>\n      <td>MULTILINESTRING ((4030087.156 375871.177, 4030...</td>\n    </tr>\n  </tbody>\n</table>\n<p>48822 rows × 22 columns</p>\n</div>"
     },
     "execution_count": 3,
     "metadata": {},
     "output_type": "execute_result"
    }
   ],
   "source": [
    "Kenya_Streams"
   ],
   "metadata": {
    "collapsed": false
   }
  },
  {
   "cell_type": "code",
   "execution_count": 4,
   "outputs": [
    {
     "data": {
      "text/plain": "     OBJECTID_1  Areakm2 Subbasin  \\\n0             1  3705.52      4GC   \n1             2   320.86      1AF   \n2             3   212.12      1AG   \n3             4   761.08      1AH   \n4             7   699.30      3AA   \n..          ...      ...      ...   \n212         203    42.62      NaN   \n213         204    63.56      NaN   \n214         205   110.21      NaN   \n215         206     7.34      NaN   \n216         207     9.87      NaN   \n\n                                              geometry  \n0    POLYGON ((39.31122 -0.01137, 39.31132 -0.01141...  \n1    POLYGON ((34.51668 0.65136, 34.51857 0.65129, ...  \n2    POLYGON ((34.54225 0.60729, 34.54225 0.60514, ...  \n3    POLYGON ((34.23608 0.57173, 34.23608 0.57137, ...  \n4    POLYGON ((36.66144 -1.27865, 36.66338 -1.28339...  \n..                                                 ...  \n212  POLYGON ((34.21618 -0.39229, 34.21560 -0.39807...  \n213  POLYGON ((34.04046 -0.43184, 34.04539 -0.43792...  \n214  POLYGON ((39.37620 -4.53632, 39.37685 -4.54085...  \n215  POLYGON ((39.36603 -4.65517, 39.36785 -4.65542...  \n216  POLYGON ((39.45470 -4.55816, 39.45315 -4.55960...  \n\n[217 rows x 4 columns]",
      "text/html": "<div>\n<style scoped>\n    .dataframe tbody tr th:only-of-type {\n        vertical-align: middle;\n    }\n\n    .dataframe tbody tr th {\n        vertical-align: top;\n    }\n\n    .dataframe thead th {\n        text-align: right;\n    }\n</style>\n<table border=\"1\" class=\"dataframe\">\n  <thead>\n    <tr style=\"text-align: right;\">\n      <th></th>\n      <th>OBJECTID_1</th>\n      <th>Areakm2</th>\n      <th>Subbasin</th>\n      <th>geometry</th>\n    </tr>\n  </thead>\n  <tbody>\n    <tr>\n      <th>0</th>\n      <td>1</td>\n      <td>3705.52</td>\n      <td>4GC</td>\n      <td>POLYGON ((39.31122 -0.01137, 39.31132 -0.01141...</td>\n    </tr>\n    <tr>\n      <th>1</th>\n      <td>2</td>\n      <td>320.86</td>\n      <td>1AF</td>\n      <td>POLYGON ((34.51668 0.65136, 34.51857 0.65129, ...</td>\n    </tr>\n    <tr>\n      <th>2</th>\n      <td>3</td>\n      <td>212.12</td>\n      <td>1AG</td>\n      <td>POLYGON ((34.54225 0.60729, 34.54225 0.60514, ...</td>\n    </tr>\n    <tr>\n      <th>3</th>\n      <td>4</td>\n      <td>761.08</td>\n      <td>1AH</td>\n      <td>POLYGON ((34.23608 0.57173, 34.23608 0.57137, ...</td>\n    </tr>\n    <tr>\n      <th>4</th>\n      <td>7</td>\n      <td>699.30</td>\n      <td>3AA</td>\n      <td>POLYGON ((36.66144 -1.27865, 36.66338 -1.28339...</td>\n    </tr>\n    <tr>\n      <th>...</th>\n      <td>...</td>\n      <td>...</td>\n      <td>...</td>\n      <td>...</td>\n    </tr>\n    <tr>\n      <th>212</th>\n      <td>203</td>\n      <td>42.62</td>\n      <td>NaN</td>\n      <td>POLYGON ((34.21618 -0.39229, 34.21560 -0.39807...</td>\n    </tr>\n    <tr>\n      <th>213</th>\n      <td>204</td>\n      <td>63.56</td>\n      <td>NaN</td>\n      <td>POLYGON ((34.04046 -0.43184, 34.04539 -0.43792...</td>\n    </tr>\n    <tr>\n      <th>214</th>\n      <td>205</td>\n      <td>110.21</td>\n      <td>NaN</td>\n      <td>POLYGON ((39.37620 -4.53632, 39.37685 -4.54085...</td>\n    </tr>\n    <tr>\n      <th>215</th>\n      <td>206</td>\n      <td>7.34</td>\n      <td>NaN</td>\n      <td>POLYGON ((39.36603 -4.65517, 39.36785 -4.65542...</td>\n    </tr>\n    <tr>\n      <th>216</th>\n      <td>207</td>\n      <td>9.87</td>\n      <td>NaN</td>\n      <td>POLYGON ((39.45470 -4.55816, 39.45315 -4.55960...</td>\n    </tr>\n  </tbody>\n</table>\n<p>217 rows × 4 columns</p>\n</div>"
     },
     "execution_count": 4,
     "metadata": {},
     "output_type": "execute_result"
    }
   ],
   "source": [
    "Kenya_Basins"
   ],
   "metadata": {
    "collapsed": false
   }
  },
  {
   "cell_type": "code",
   "execution_count": 6,
   "outputs": [],
   "source": [
    "Kenya_Streams = Kenya_Streams.to_crs(Kenya_Basins.crs)\n",
    "intersection = gpd.overlay(Kenya_Streams, Kenya_Basins, how='intersection')"
   ],
   "metadata": {
    "collapsed": false
   }
  },
  {
   "cell_type": "code",
   "execution_count": 10,
   "outputs": [
    {
     "data": {
      "text/plain": "          LINKNO   DSLINKNO  strmOrder    USContArea    DSContArea  \\\n0      160089726  160096734          2  1.143868e+07  2.023278e+07   \n1      160117795  160125972          2  1.098189e+07  5.745700e+07   \n2      160142324  160143492          2  1.028320e+07  4.848419e+07   \n3      160127140  160168021          2  1.155830e+07  3.510850e+07   \n4      160145828  160146996          2  1.088708e+07  1.840254e+07   \n...          ...        ...        ...           ...           ...   \n30428  110822022  110823334          6  5.504314e+10  5.508149e+10   \n30429  110823334  110824646          6  5.525485e+10  5.525977e+10   \n30430  110824646  110825958          6  5.850694e+10  5.852224e+10   \n30431  110825958  110827270          6  5.860348e+10  5.860713e+10   \n30432  110916467  110936148          6  6.819851e+10  6.819900e+10   \n\n      TDXHydroRegion  VPUCode  TopologicalOrder  LengthGeodesicMeters  \\\n0         1020034170      122            200273           4263.510353   \n1         1020034170      122            200959           3507.172391   \n2         1020034170      122            200982          10628.918611   \n3         1020034170      122            200983           6007.798620   \n4         1020034170      122            200984           1679.096554   \n...              ...      ...               ...                   ...   \n30428     1020000010      103            350189          17856.277512   \n30429     1020000010      103            350198           1085.659382   \n30430     1020000010      103            350206           8539.579614   \n30431     1020000010      103            350214           1930.229110   \n30432     1020000010      103            350668           2372.437060   \n\n       TerminalLink  ...     Shape_Area  Basin_Name  Area_Km       _mean  \\\n0         160064246  ...  130151.249335        RVBA   131562  502.106903   \n1         160064246  ...  130151.249335        RVBA   131562  502.106903   \n2         160064246  ...  130151.249335        RVBA   131562  502.106903   \n3         160064246  ...  130151.249335        RVBA   131562  502.106903   \n4         160064246  ...  130151.249335        RVBA   131562  502.106903   \n...             ...  ...            ...         ...      ...         ...   \n30428     110407544  ...  130151.249335        RVBA   131562  502.106903   \n30429     110407544  ...  130151.249335        RVBA   131562  502.106903   \n30430     110407544  ...  130151.249335        RVBA   131562  502.106903   \n30431     110407544  ...  130151.249335        RVBA   131562  502.106903   \n30432     110777430  ...  130151.249335        RVBA   131562  502.106903   \n\n              layer                                               path  \\\n0      Intersection  MultiLineString?crs=EPSG:3857&field=fid:long(0...   \n1      Intersection  MultiLineString?crs=EPSG:3857&field=fid:long(0...   \n2      Intersection  MultiLineString?crs=EPSG:3857&field=fid:long(0...   \n3      Intersection  MultiLineString?crs=EPSG:3857&field=fid:long(0...   \n4      Intersection  MultiLineString?crs=EPSG:3857&field=fid:long(0...   \n...             ...                                                ...   \n30428  Intersection  MultiLineString?crs=EPSG:3857&field=fid:long(0...   \n30429  Intersection  MultiLineString?crs=EPSG:3857&field=fid:long(0...   \n30430  Intersection  MultiLineString?crs=EPSG:3857&field=fid:long(0...   \n30431  Intersection  MultiLineString?crs=EPSG:3857&field=fid:long(0...   \n30432  Intersection  MultiLineString?crs=EPSG:3857&field=fid:long(0...   \n\n      OBJECTID_1   Areakm2  Subbasin  \\\n0            163  13525.68       2BD   \n1            131    767.72       1BC   \n2            133    863.05       1BE   \n3            131    767.72       1BC   \n4            131    767.72       1BC   \n...          ...       ...       ...   \n30428         60   3274.21       5GB   \n30429         60   3274.21       5GB   \n30430         60   3274.21       5GB   \n30431         60   3274.21       5GB   \n30432        159   9924.12       2AB   \n\n                                                geometry  \n0      LINESTRING (34.89347 2.35369, 34.89356 2.35378...  \n1      MULTILINESTRING ((35.12589 1.22578, 35.12589 1...  \n2      MULTILINESTRING ((34.80544 1.19700, 34.80533 1...  \n3      MULTILINESTRING ((35.21544 1.20933, 35.21556 1...  \n4      MULTILINESTRING ((35.01656 1.19689, 35.01644 1...  \n...                                                  ...  \n30428  MULTILINESTRING ((41.84078 3.95378, 41.84067 3...  \n30429  LINESTRING (41.84767 3.94989, 41.84756 3.94989...  \n30430  LINESTRING (41.88900 3.97956, 41.88889 3.97944...  \n30431  LINESTRING (41.89758 3.98109, 41.89756 3.98111...  \n30432  LINESTRING (35.97272 4.65128, 35.97267 4.65133...  \n\n[30433 rows x 25 columns]",
      "text/html": "<div>\n<style scoped>\n    .dataframe tbody tr th:only-of-type {\n        vertical-align: middle;\n    }\n\n    .dataframe tbody tr th {\n        vertical-align: top;\n    }\n\n    .dataframe thead th {\n        text-align: right;\n    }\n</style>\n<table border=\"1\" class=\"dataframe\">\n  <thead>\n    <tr style=\"text-align: right;\">\n      <th></th>\n      <th>LINKNO</th>\n      <th>DSLINKNO</th>\n      <th>strmOrder</th>\n      <th>USContArea</th>\n      <th>DSContArea</th>\n      <th>TDXHydroRegion</th>\n      <th>VPUCode</th>\n      <th>TopologicalOrder</th>\n      <th>LengthGeodesicMeters</th>\n      <th>TerminalLink</th>\n      <th>...</th>\n      <th>Shape_Area</th>\n      <th>Basin_Name</th>\n      <th>Area_Km</th>\n      <th>_mean</th>\n      <th>layer</th>\n      <th>path</th>\n      <th>OBJECTID_1</th>\n      <th>Areakm2</th>\n      <th>Subbasin</th>\n      <th>geometry</th>\n    </tr>\n  </thead>\n  <tbody>\n    <tr>\n      <th>0</th>\n      <td>160089726</td>\n      <td>160096734</td>\n      <td>2</td>\n      <td>1.143868e+07</td>\n      <td>2.023278e+07</td>\n      <td>1020034170</td>\n      <td>122</td>\n      <td>200273</td>\n      <td>4263.510353</td>\n      <td>160064246</td>\n      <td>...</td>\n      <td>130151.249335</td>\n      <td>RVBA</td>\n      <td>131562</td>\n      <td>502.106903</td>\n      <td>Intersection</td>\n      <td>MultiLineString?crs=EPSG:3857&amp;field=fid:long(0...</td>\n      <td>163</td>\n      <td>13525.68</td>\n      <td>2BD</td>\n      <td>LINESTRING (34.89347 2.35369, 34.89356 2.35378...</td>\n    </tr>\n    <tr>\n      <th>1</th>\n      <td>160117795</td>\n      <td>160125972</td>\n      <td>2</td>\n      <td>1.098189e+07</td>\n      <td>5.745700e+07</td>\n      <td>1020034170</td>\n      <td>122</td>\n      <td>200959</td>\n      <td>3507.172391</td>\n      <td>160064246</td>\n      <td>...</td>\n      <td>130151.249335</td>\n      <td>RVBA</td>\n      <td>131562</td>\n      <td>502.106903</td>\n      <td>Intersection</td>\n      <td>MultiLineString?crs=EPSG:3857&amp;field=fid:long(0...</td>\n      <td>131</td>\n      <td>767.72</td>\n      <td>1BC</td>\n      <td>MULTILINESTRING ((35.12589 1.22578, 35.12589 1...</td>\n    </tr>\n    <tr>\n      <th>2</th>\n      <td>160142324</td>\n      <td>160143492</td>\n      <td>2</td>\n      <td>1.028320e+07</td>\n      <td>4.848419e+07</td>\n      <td>1020034170</td>\n      <td>122</td>\n      <td>200982</td>\n      <td>10628.918611</td>\n      <td>160064246</td>\n      <td>...</td>\n      <td>130151.249335</td>\n      <td>RVBA</td>\n      <td>131562</td>\n      <td>502.106903</td>\n      <td>Intersection</td>\n      <td>MultiLineString?crs=EPSG:3857&amp;field=fid:long(0...</td>\n      <td>133</td>\n      <td>863.05</td>\n      <td>1BE</td>\n      <td>MULTILINESTRING ((34.80544 1.19700, 34.80533 1...</td>\n    </tr>\n    <tr>\n      <th>3</th>\n      <td>160127140</td>\n      <td>160168021</td>\n      <td>2</td>\n      <td>1.155830e+07</td>\n      <td>3.510850e+07</td>\n      <td>1020034170</td>\n      <td>122</td>\n      <td>200983</td>\n      <td>6007.798620</td>\n      <td>160064246</td>\n      <td>...</td>\n      <td>130151.249335</td>\n      <td>RVBA</td>\n      <td>131562</td>\n      <td>502.106903</td>\n      <td>Intersection</td>\n      <td>MultiLineString?crs=EPSG:3857&amp;field=fid:long(0...</td>\n      <td>131</td>\n      <td>767.72</td>\n      <td>1BC</td>\n      <td>MULTILINESTRING ((35.21544 1.20933, 35.21556 1...</td>\n    </tr>\n    <tr>\n      <th>4</th>\n      <td>160145828</td>\n      <td>160146996</td>\n      <td>2</td>\n      <td>1.088708e+07</td>\n      <td>1.840254e+07</td>\n      <td>1020034170</td>\n      <td>122</td>\n      <td>200984</td>\n      <td>1679.096554</td>\n      <td>160064246</td>\n      <td>...</td>\n      <td>130151.249335</td>\n      <td>RVBA</td>\n      <td>131562</td>\n      <td>502.106903</td>\n      <td>Intersection</td>\n      <td>MultiLineString?crs=EPSG:3857&amp;field=fid:long(0...</td>\n      <td>131</td>\n      <td>767.72</td>\n      <td>1BC</td>\n      <td>MULTILINESTRING ((35.01656 1.19689, 35.01644 1...</td>\n    </tr>\n    <tr>\n      <th>...</th>\n      <td>...</td>\n      <td>...</td>\n      <td>...</td>\n      <td>...</td>\n      <td>...</td>\n      <td>...</td>\n      <td>...</td>\n      <td>...</td>\n      <td>...</td>\n      <td>...</td>\n      <td>...</td>\n      <td>...</td>\n      <td>...</td>\n      <td>...</td>\n      <td>...</td>\n      <td>...</td>\n      <td>...</td>\n      <td>...</td>\n      <td>...</td>\n      <td>...</td>\n      <td>...</td>\n    </tr>\n    <tr>\n      <th>30428</th>\n      <td>110822022</td>\n      <td>110823334</td>\n      <td>6</td>\n      <td>5.504314e+10</td>\n      <td>5.508149e+10</td>\n      <td>1020000010</td>\n      <td>103</td>\n      <td>350189</td>\n      <td>17856.277512</td>\n      <td>110407544</td>\n      <td>...</td>\n      <td>130151.249335</td>\n      <td>RVBA</td>\n      <td>131562</td>\n      <td>502.106903</td>\n      <td>Intersection</td>\n      <td>MultiLineString?crs=EPSG:3857&amp;field=fid:long(0...</td>\n      <td>60</td>\n      <td>3274.21</td>\n      <td>5GB</td>\n      <td>MULTILINESTRING ((41.84078 3.95378, 41.84067 3...</td>\n    </tr>\n    <tr>\n      <th>30429</th>\n      <td>110823334</td>\n      <td>110824646</td>\n      <td>6</td>\n      <td>5.525485e+10</td>\n      <td>5.525977e+10</td>\n      <td>1020000010</td>\n      <td>103</td>\n      <td>350198</td>\n      <td>1085.659382</td>\n      <td>110407544</td>\n      <td>...</td>\n      <td>130151.249335</td>\n      <td>RVBA</td>\n      <td>131562</td>\n      <td>502.106903</td>\n      <td>Intersection</td>\n      <td>MultiLineString?crs=EPSG:3857&amp;field=fid:long(0...</td>\n      <td>60</td>\n      <td>3274.21</td>\n      <td>5GB</td>\n      <td>LINESTRING (41.84767 3.94989, 41.84756 3.94989...</td>\n    </tr>\n    <tr>\n      <th>30430</th>\n      <td>110824646</td>\n      <td>110825958</td>\n      <td>6</td>\n      <td>5.850694e+10</td>\n      <td>5.852224e+10</td>\n      <td>1020000010</td>\n      <td>103</td>\n      <td>350206</td>\n      <td>8539.579614</td>\n      <td>110407544</td>\n      <td>...</td>\n      <td>130151.249335</td>\n      <td>RVBA</td>\n      <td>131562</td>\n      <td>502.106903</td>\n      <td>Intersection</td>\n      <td>MultiLineString?crs=EPSG:3857&amp;field=fid:long(0...</td>\n      <td>60</td>\n      <td>3274.21</td>\n      <td>5GB</td>\n      <td>LINESTRING (41.88900 3.97956, 41.88889 3.97944...</td>\n    </tr>\n    <tr>\n      <th>30431</th>\n      <td>110825958</td>\n      <td>110827270</td>\n      <td>6</td>\n      <td>5.860348e+10</td>\n      <td>5.860713e+10</td>\n      <td>1020000010</td>\n      <td>103</td>\n      <td>350214</td>\n      <td>1930.229110</td>\n      <td>110407544</td>\n      <td>...</td>\n      <td>130151.249335</td>\n      <td>RVBA</td>\n      <td>131562</td>\n      <td>502.106903</td>\n      <td>Intersection</td>\n      <td>MultiLineString?crs=EPSG:3857&amp;field=fid:long(0...</td>\n      <td>60</td>\n      <td>3274.21</td>\n      <td>5GB</td>\n      <td>LINESTRING (41.89758 3.98109, 41.89756 3.98111...</td>\n    </tr>\n    <tr>\n      <th>30432</th>\n      <td>110916467</td>\n      <td>110936148</td>\n      <td>6</td>\n      <td>6.819851e+10</td>\n      <td>6.819900e+10</td>\n      <td>1020000010</td>\n      <td>103</td>\n      <td>350668</td>\n      <td>2372.437060</td>\n      <td>110777430</td>\n      <td>...</td>\n      <td>130151.249335</td>\n      <td>RVBA</td>\n      <td>131562</td>\n      <td>502.106903</td>\n      <td>Intersection</td>\n      <td>MultiLineString?crs=EPSG:3857&amp;field=fid:long(0...</td>\n      <td>159</td>\n      <td>9924.12</td>\n      <td>2AB</td>\n      <td>LINESTRING (35.97272 4.65128, 35.97267 4.65133...</td>\n    </tr>\n  </tbody>\n</table>\n<p>30433 rows × 25 columns</p>\n</div>"
     },
     "execution_count": 10,
     "metadata": {},
     "output_type": "execute_result"
    }
   ],
   "source": [
    "intersection"
   ],
   "metadata": {
    "collapsed": false
   }
  },
  {
   "cell_type": "code",
   "execution_count": 8,
   "outputs": [],
   "source": [
    "highest_value_intersection = intersection.loc[intersection.groupby(\"Subbasin\")[\"DSContArea\"].idxmax()]"
   ],
   "metadata": {
    "collapsed": false
   }
  },
  {
   "cell_type": "code",
   "execution_count": 12,
   "outputs": [
    {
     "data": {
      "text/plain": "Index(['LINKNO', 'DSLINKNO', 'strmOrder', 'USContArea', 'DSContArea',\n       'TDXHydroRegion', 'VPUCode', 'TopologicalOrder', 'LengthGeodesicMeters',\n       'TerminalLink', 'musk_k', 'musk_x', 'OBJECTID', 'MAIN_BASIN',\n       'Shape_Leng', 'Shape_Area', 'Basin_Name', 'Area_Km', '_mean', 'layer',\n       'path', 'OBJECTID_1', 'Areakm2', 'Subbasin', 'geometry'],\n      dtype='object')"
     },
     "execution_count": 12,
     "metadata": {},
     "output_type": "execute_result"
    }
   ],
   "source": [
    "highest_value_intersection.columns"
   ],
   "metadata": {
    "collapsed": false
   }
  },
  {
   "cell_type": "code",
   "execution_count": 14,
   "outputs": [],
   "source": [
    "# Drop columns (excluding 'geometry')\n",
    "columns_to_drop = ['strmOrder', 'TDXHydroRegion', 'VPUCode', 'TopologicalOrder', 'LengthGeodesicMeters',\n",
    "       'TerminalLink', 'musk_k', 'musk_x', 'OBJECTID', 'MAIN_BASIN',\n",
    "       'Shape_Leng', 'Shape_Area', 'Basin_Name', 'Area_Km', '_mean', 'layer',\n",
    "       'path']  # Replace with the actual column names you want to drop\n",
    "highest_value_intersection = highest_value_intersection.drop(columns=columns_to_drop)\n"
   ],
   "metadata": {
    "collapsed": false
   }
  },
  {
   "cell_type": "code",
   "execution_count": 15,
   "outputs": [],
   "source": [
    "highest_value_intersection.to_file('/Users/rachel1/Downloads/basin_intersect.gpkg')"
   ],
   "metadata": {
    "collapsed": false
   }
  },
  {
   "cell_type": "code",
   "execution_count": null,
   "outputs": [],
   "source": [],
   "metadata": {
    "collapsed": false
   }
  }
 ],
 "metadata": {
  "kernelspec": {
   "display_name": "Python 3",
   "language": "python",
   "name": "python3"
  },
  "language_info": {
   "codemirror_mode": {
    "name": "ipython",
    "version": 2
   },
   "file_extension": ".py",
   "mimetype": "text/x-python",
   "name": "python",
   "nbconvert_exporter": "python",
   "pygments_lexer": "ipython2",
   "version": "2.7.6"
  }
 },
 "nbformat": 4,
 "nbformat_minor": 0
}
