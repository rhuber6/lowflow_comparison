{
 "cells": [
  {
   "cell_type": "raw",
   "source": [
    "import xarray\n",
    "import geopandas as gpd\n",
    "import numpy as np\n",
    "import pandas as pd\n",
    "import s3fs\n",
    "import geoglows"
   ],
   "metadata": {
    "collapsed": false,
    "pycharm": {
     "name": ""
    }
   }
  },
  {
   "cell_type": "code",
   "execution_count": 1,
   "outputs": [],
   "source": [
    "import xarray\n",
    "import geopandas as gpd\n",
    "import numpy as np\n",
    "import pandas as pd\n",
    "import s3fs\n",
    "import geoglows"
   ],
   "metadata": {
    "collapsed": false
   }
  },
  {
   "cell_type": "code",
   "execution_count": 2,
   "outputs": [],
   "source": [
    "bucket_uri = 's3://geoglows-v2-retrospective/retrospective.zarr'\n",
    "region_name = 'us-west-2'\n",
    "s3 = s3fs.S3FileSystem(anon=True, client_kwargs=dict(region_name=region_name))\n",
    "s3store = s3fs.S3Map(root=bucket_uri, s3=s3, check=False)\n",
    "\n",
    "ds = xarray.open_zarr(s3store)"
   ],
   "metadata": {
    "collapsed": false
   }
  },
  {
   "cell_type": "code",
   "execution_count": 3,
   "outputs": [],
   "source": [
    "results = []"
   ],
   "metadata": {
    "collapsed": false
   }
  },
  {
   "cell_type": "code",
   "execution_count": 4,
   "outputs": [],
   "source": [
    "linkno_files = {\n",
    "    160221792: \"/Users/rachel1/Downloads/rachel nile/kenya_1GD03.csv\",\n",
    "    160266239: \"/Users/rachel1/Downloads/rwanda_4326.csv\",\n",
    "    160212492: \"/Users/rachel1/Downloads/rachel nile/grdc_1270900.csv\",\n",
    "    160168155: \"/Users/rachel1/Downloads/rachel nile/grdc_1269200.csv\",\n",
    "    160213625: \"/Users/rachel1/Downloads/rachel nile/grdc_1769050.csv\",\n",
    "    160184420: \"/Users/rachel1/Downloads/rachel nile/grdc_1769100.csv\",\n",
    "    160191425: \"/Users/rachel1/Downloads/rachel nile/grdc_1769200.csv\",\n",
    "    160128354: \"/Users/rachel1/Downloads/rachel nile/grdc_1769150.csv\",\n",
    "    160504154: \"/Users/rachel1/Downloads/rachel nile/grdc_1563680.csv\",\n",
    "    160528679: \"/Users/rachel1/Downloads/rachel nile/grdc_1563700.csv\",\n",
    "    160622096: \"/Users/rachel1/Downloads/rachel nile/grdc_1563900.csv\",\n",
    "    160590528: \"/Users/rachel1/Downloads/rachel nile/grdc_1563600.csv\",\n",
    "    160536792: \"/Users/rachel1/Downloads/rachel nile/grdc_1563450.csv\",\n",
    "    160596343: \"/Users/rachel1/Downloads/rachel nile/grdc_1563500.csv\",\n",
    "    160608077: \"/Users/rachel1/Downloads/rachel nile/grdc_1563550.csv\",\n",
    "    160553167: \"/Users/rachel1/Downloads/rachel nile/grdc_1563050.csv\",\n",
    "}"
   ],
   "metadata": {
    "collapsed": false
   }
  },
  {
   "cell_type": "code",
   "execution_count": 4,
   "outputs": [],
   "source": [],
   "metadata": {
    "collapsed": false
   }
  },
  {
   "cell_type": "code",
   "execution_count": 5,
   "outputs": [],
   "source": [
    "stdStart = 1991\n",
    "stdEnd = 2020\n",
    "def HydroSOS(flowdata):\n",
    "        flowdata.columns = ['date', 'flow']\n",
    "        # flowdata['date'] = pd.to_datetime(flowdata['date'], format=\"%d/%m/%Y\")\n",
    "        flowdata['date'] = pd.to_datetime(flowdata['date'])  # Ensure the 'date' column is in datetime format\n",
    "        # flowdata['date'] = flowdata['date'].dt.strftime('%d/%m/%Y')\n",
    "\n",
    "        # check dates are sequential\n",
    "\n",
    "        diff = pd.date_range(start=flowdata['date'].min(), end=flowdata['date'].max()).difference(flowdata['date'])\n",
    "        if len(diff) > 0:\n",
    "            flowdata.set_index('date', inplace=True)\n",
    "            for md in diff:\n",
    "                flowdata.loc[md, 'flow'] = pd.NA\n",
    "            flowdata.reset_index(inplace=True)\n",
    "        # month and year column\n",
    "        flowdata['month'] = flowdata['date'].dt.month\n",
    "        flowdata['year'] = flowdata['date'].dt.year\n",
    "\n",
    "        # check whether or not there is enough data?\n",
    "        # print(f\"There are {flowdata['year'].max() - flowdata['year'].min()} years of data in this file.\")\n",
    "        # print(f\"There are {sum(flowdata['flow'].isnull())} missing data points, which is {np.round(sum(flowdata['flow'].isnull())/len(flowdata) * 100,4)}% of the total data\")\n",
    "        #print(\"starting step 1\")\n",
    "        \"\"\" STEP 1: CALCULATE MEAN MONTHLY FLOWS \"\"\"\n",
    "\n",
    "        # calculate percentage completeness for each year/month\n",
    "        groupBy = (flowdata.groupby(['month', 'year']).count()['flow'] / flowdata.groupby(['month', 'year']).count()[\n",
    "            'date']) * 100\n",
    "        groupBy = pd.DataFrame(groupBy)\n",
    "        groupBy.rename(columns={0: 'monthly%'}, inplace=True)\n",
    "        # calculate mean flows for each year/month\n",
    "        groupBy['mean_flow'] = flowdata.groupby(['month', 'year'])['flow'].mean()\n",
    "        # set the mean flow to NAN if there is less than 50 % data\n",
    "        # groupBy.loc[groupBy['monthly%'] < 50,'mean_flow'] = pd.NA\n",
    "        groupBy.reset_index(inplace=True)\n",
    "        #print(\"finished step 1\")\n",
    "        \"\"\" STEP 2: CALCULATE MEAN MONTHLY FLOWS AS A PERCENTAGE OF AVERAGE \"\"\"\n",
    "\n",
    "        # calculate long term average\n",
    "        LTA = groupBy[(groupBy['year'] >= stdStart) & (groupBy['year'] <= stdEnd)].groupby(['month'])[\n",
    "            'mean_flow'].mean()\n",
    "        if LTA.empty:\n",
    "            #print(\"Skipping\")\n",
    "            return\n",
    "        #print(\"NOT SKIPPED\")\n",
    "\n",
    "        # divide each month by this long term average\n",
    "        for i in range(1, 13):\n",
    "            groupBy.loc[groupBy['month'] == i, 'percentile_flow'] = groupBy['mean_flow'][groupBy['month'] == i] / LTA[\n",
    "                i] * 100\n",
    "        #print(\"FINISHED STEP 2\")\n",
    "        \"\"\" STEP 3: CALCULATE RANK PERCENTILES \"\"\"\n",
    "        # na values automatically set as rank na\n",
    "        for i in range(1, 13):\n",
    "            groupBy.loc[groupBy['month'] == i, 'weibell_rank'] = groupBy.loc[\n",
    "                                                                     groupBy['month'] == i, 'percentile_flow'].rank(\n",
    "                na_option='keep') / (groupBy.loc[groupBy['month'] == i, 'percentile_flow'].count() + 1)\n",
    "        #print(\"FINISHED STEP 3\")\n",
    "        \"\"\" STEP 4: ASSIGN STATUS CATEGORIES \"\"\"\n",
    "\n",
    "\n",
    "        def flow_status(weibell_rank):\n",
    "            status = pd.NA\n",
    "            if weibell_rank <= 0.13:\n",
    "                status = 1\n",
    "            elif weibell_rank <= 0.28:\n",
    "                status = 2\n",
    "            elif weibell_rank <= 0.71999:\n",
    "                status = 3\n",
    "            elif weibell_rank <= 0.86999:\n",
    "                status = 4\n",
    "            elif weibell_rank <= 1:\n",
    "                status = 5\n",
    "            return status\n",
    "\n",
    "\n",
    "        for i in groupBy.index:\n",
    "            groupBy.loc[i, 'flowcat'] = flow_status(groupBy.loc[i, 'weibell_rank'])\n",
    "        #print(\"FINISHED STEP 4\")\n",
    "        \"\"\" STEP 5: WRITE DATA \"\"\"\n",
    "        groupBy['date'] = pd.to_datetime(groupBy[['year', 'month']].assign(DAY=1))\n",
    "        groupBy['date'] = groupBy['date'].dt.strftime('%Y-%m-%d')\n",
    "        groupBy['flowcat'] = groupBy['flowcat'].astype('Int64')\n",
    "        return(groupBy.sort_values(['year', 'month']).filter(['date', 'flowcat']))"
   ],
   "metadata": {
    "collapsed": false
   }
  },
  {
   "cell_type": "code",
   "execution_count": 6,
   "outputs": [
    {
     "name": "stdout",
     "output_type": "stream",
     "text": [
      "160221792\n",
      "NOT SKIPPED\n",
      "160266239\n"
     ]
    },
    {
     "name": "stderr",
     "output_type": "stream",
     "text": [
      "/var/folders/7b/d70_71nx15l_shf2zfg77d3h0000gp/T/ipykernel_18067/1775053785.py:10: UserWarning:\n",
      "\n",
      "Could not infer format, so each element will be parsed individually, falling back to `dateutil`. To ensure parsing is consistent and as-expected, please specify a format.\n",
      "\n"
     ]
    },
    {
     "name": "stdout",
     "output_type": "stream",
     "text": [
      "NOT SKIPPED\n",
      "160212492\n",
      "160168155\n",
      "160213625\n",
      "160184420\n",
      "160191425\n",
      "160128354\n",
      "160504154\n",
      "160528679\n",
      "160622096\n",
      "160590528\n",
      "160536792\n",
      "160596343\n",
      "160608077\n",
      "160553167\n"
     ]
    }
   ],
   "source": [
    "for linkno, file_path in linkno_files.items():\n",
    "    print(linkno)\n",
    "    df = ds['Qout'].sel(rivid=linkno).to_dataframe()\n",
    "    df = df.reset_index().set_index('time').pivot(columns='rivid', values='Qout')\n",
    "    df = df[(df.index > '1950-12-31')]\n",
    "    df = df[df[linkno] >= 0]\n",
    "    df.reset_index(inplace=True)\n",
    "    gauge = pd.read_csv(file_path)\n",
    "    gauge = gauge[gauge['Streamflow (m3/s)'] >= 0]\n",
    "    gauge['Datetime'] = pd.to_datetime(gauge['Datetime'], errors='coerce')\n",
    "    gauge.set_index('Datetime', inplace=True)\n",
    "    gauge.reset_index(inplace=True)\n",
    "    geoglows_sos = HydroSOS(df)\n",
    "\n",
    "    #print(\"FINISHED GEOGLOWS\")\n",
    "    gauge_sos = HydroSOS(gauge)\n",
    "    if gauge_sos is not None:\n",
    "        print(\"NOT SKIPPED\")\n",
    "\n"
   ],
   "metadata": {
    "collapsed": false
   }
  },
  {
   "cell_type": "code",
   "execution_count": 13,
   "outputs": [],
   "source": [
    "gauge_sos"
   ],
   "metadata": {
    "collapsed": false
   }
  },
  {
   "cell_type": "code",
   "execution_count": 12,
   "outputs": [
    {
     "data": {
      "text/plain": "           date  flowcat\n0    1951-01-01        5\n74   1951-02-01        3\n148  1951-03-01        3\n222  1951-04-01        1\n296  1951-05-01        3\n..          ...      ...\n591  2024-08-01        1\n665  2024-09-01        3\n739  2024-10-01        3\n813  2024-11-01        1\n887  2024-12-01        1\n\n[888 rows x 2 columns]",
      "text/html": "<div>\n<style scoped>\n    .dataframe tbody tr th:only-of-type {\n        vertical-align: middle;\n    }\n\n    .dataframe tbody tr th {\n        vertical-align: top;\n    }\n\n    .dataframe thead th {\n        text-align: right;\n    }\n</style>\n<table border=\"1\" class=\"dataframe\">\n  <thead>\n    <tr style=\"text-align: right;\">\n      <th></th>\n      <th>date</th>\n      <th>flowcat</th>\n    </tr>\n  </thead>\n  <tbody>\n    <tr>\n      <th>0</th>\n      <td>1951-01-01</td>\n      <td>5</td>\n    </tr>\n    <tr>\n      <th>74</th>\n      <td>1951-02-01</td>\n      <td>3</td>\n    </tr>\n    <tr>\n      <th>148</th>\n      <td>1951-03-01</td>\n      <td>3</td>\n    </tr>\n    <tr>\n      <th>222</th>\n      <td>1951-04-01</td>\n      <td>1</td>\n    </tr>\n    <tr>\n      <th>296</th>\n      <td>1951-05-01</td>\n      <td>3</td>\n    </tr>\n    <tr>\n      <th>...</th>\n      <td>...</td>\n      <td>...</td>\n    </tr>\n    <tr>\n      <th>591</th>\n      <td>2024-08-01</td>\n      <td>1</td>\n    </tr>\n    <tr>\n      <th>665</th>\n      <td>2024-09-01</td>\n      <td>3</td>\n    </tr>\n    <tr>\n      <th>739</th>\n      <td>2024-10-01</td>\n      <td>3</td>\n    </tr>\n    <tr>\n      <th>813</th>\n      <td>2024-11-01</td>\n      <td>1</td>\n    </tr>\n    <tr>\n      <th>887</th>\n      <td>2024-12-01</td>\n      <td>1</td>\n    </tr>\n  </tbody>\n</table>\n<p>888 rows × 2 columns</p>\n</div>"
     },
     "execution_count": 12,
     "metadata": {},
     "output_type": "execute_result"
    }
   ],
   "source": [
    "geoglows_sos"
   ],
   "metadata": {
    "collapsed": false
   }
  },
  {
   "cell_type": "code",
   "execution_count": 7,
   "outputs": [],
   "source": [
    "df.reset_index(inplace=True)"
   ],
   "metadata": {
    "collapsed": false
   }
  },
  {
   "cell_type": "code",
   "execution_count": 8,
   "outputs": [
    {
     "ename": "ValueError",
     "evalue": "Length mismatch: Expected axis has 5 elements, new values have 2 elements",
     "output_type": "error",
     "traceback": [
      "\u001B[0;31m---------------------------------------------------------------------------\u001B[0m",
      "\u001B[0;31mValueError\u001B[0m                                Traceback (most recent call last)",
      "Cell \u001B[0;32mIn[8], line 1\u001B[0m\n\u001B[0;32m----> 1\u001B[0m \u001B[43mdf\u001B[49m\u001B[38;5;241;43m.\u001B[39;49m\u001B[43mcolumns\u001B[49m \u001B[38;5;241m=\u001B[39m [\u001B[38;5;124m'\u001B[39m\u001B[38;5;124mdate\u001B[39m\u001B[38;5;124m'\u001B[39m, \u001B[38;5;124m'\u001B[39m\u001B[38;5;124mflow\u001B[39m\u001B[38;5;124m'\u001B[39m]\n",
      "File \u001B[0;32m~/miniconda3/envs/ecuador/lib/python3.9/site-packages/pandas/core/generic.py:6310\u001B[0m, in \u001B[0;36mNDFrame.__setattr__\u001B[0;34m(self, name, value)\u001B[0m\n\u001B[1;32m   6308\u001B[0m \u001B[38;5;28;01mtry\u001B[39;00m:\n\u001B[1;32m   6309\u001B[0m     \u001B[38;5;28mobject\u001B[39m\u001B[38;5;241m.\u001B[39m\u001B[38;5;21m__getattribute__\u001B[39m(\u001B[38;5;28mself\u001B[39m, name)\n\u001B[0;32m-> 6310\u001B[0m     \u001B[38;5;28;01mreturn\u001B[39;00m \u001B[38;5;28;43mobject\u001B[39;49m\u001B[38;5;241;43m.\u001B[39;49m\u001B[38;5;21;43m__setattr__\u001B[39;49m\u001B[43m(\u001B[49m\u001B[38;5;28;43mself\u001B[39;49m\u001B[43m,\u001B[49m\u001B[43m \u001B[49m\u001B[43mname\u001B[49m\u001B[43m,\u001B[49m\u001B[43m \u001B[49m\u001B[43mvalue\u001B[49m\u001B[43m)\u001B[49m\n\u001B[1;32m   6311\u001B[0m \u001B[38;5;28;01mexcept\u001B[39;00m \u001B[38;5;167;01mAttributeError\u001B[39;00m:\n\u001B[1;32m   6312\u001B[0m     \u001B[38;5;28;01mpass\u001B[39;00m\n",
      "File \u001B[0;32mproperties.pyx:69\u001B[0m, in \u001B[0;36mpandas._libs.properties.AxisProperty.__set__\u001B[0;34m()\u001B[0m\n",
      "File \u001B[0;32m~/miniconda3/envs/ecuador/lib/python3.9/site-packages/pandas/core/generic.py:813\u001B[0m, in \u001B[0;36mNDFrame._set_axis\u001B[0;34m(self, axis, labels)\u001B[0m\n\u001B[1;32m    808\u001B[0m \u001B[38;5;250m\u001B[39m\u001B[38;5;124;03m\"\"\"\u001B[39;00m\n\u001B[1;32m    809\u001B[0m \u001B[38;5;124;03mThis is called from the cython code when we set the `index` attribute\u001B[39;00m\n\u001B[1;32m    810\u001B[0m \u001B[38;5;124;03mdirectly, e.g. `series.index = [1, 2, 3]`.\u001B[39;00m\n\u001B[1;32m    811\u001B[0m \u001B[38;5;124;03m\"\"\"\u001B[39;00m\n\u001B[1;32m    812\u001B[0m labels \u001B[38;5;241m=\u001B[39m ensure_index(labels)\n\u001B[0;32m--> 813\u001B[0m \u001B[38;5;28;43mself\u001B[39;49m\u001B[38;5;241;43m.\u001B[39;49m\u001B[43m_mgr\u001B[49m\u001B[38;5;241;43m.\u001B[39;49m\u001B[43mset_axis\u001B[49m\u001B[43m(\u001B[49m\u001B[43maxis\u001B[49m\u001B[43m,\u001B[49m\u001B[43m \u001B[49m\u001B[43mlabels\u001B[49m\u001B[43m)\u001B[49m\n\u001B[1;32m    814\u001B[0m \u001B[38;5;28mself\u001B[39m\u001B[38;5;241m.\u001B[39m_clear_item_cache()\n",
      "File \u001B[0;32m~/miniconda3/envs/ecuador/lib/python3.9/site-packages/pandas/core/internals/managers.py:238\u001B[0m, in \u001B[0;36mBaseBlockManager.set_axis\u001B[0;34m(self, axis, new_labels)\u001B[0m\n\u001B[1;32m    236\u001B[0m \u001B[38;5;28;01mdef\u001B[39;00m \u001B[38;5;21mset_axis\u001B[39m(\u001B[38;5;28mself\u001B[39m, axis: AxisInt, new_labels: Index) \u001B[38;5;241m-\u001B[39m\u001B[38;5;241m>\u001B[39m \u001B[38;5;28;01mNone\u001B[39;00m:\n\u001B[1;32m    237\u001B[0m     \u001B[38;5;66;03m# Caller is responsible for ensuring we have an Index object.\u001B[39;00m\n\u001B[0;32m--> 238\u001B[0m     \u001B[38;5;28;43mself\u001B[39;49m\u001B[38;5;241;43m.\u001B[39;49m\u001B[43m_validate_set_axis\u001B[49m\u001B[43m(\u001B[49m\u001B[43maxis\u001B[49m\u001B[43m,\u001B[49m\u001B[43m \u001B[49m\u001B[43mnew_labels\u001B[49m\u001B[43m)\u001B[49m\n\u001B[1;32m    239\u001B[0m     \u001B[38;5;28mself\u001B[39m\u001B[38;5;241m.\u001B[39maxes[axis] \u001B[38;5;241m=\u001B[39m new_labels\n",
      "File \u001B[0;32m~/miniconda3/envs/ecuador/lib/python3.9/site-packages/pandas/core/internals/base.py:98\u001B[0m, in \u001B[0;36mDataManager._validate_set_axis\u001B[0;34m(self, axis, new_labels)\u001B[0m\n\u001B[1;32m     95\u001B[0m     \u001B[38;5;28;01mpass\u001B[39;00m\n\u001B[1;32m     97\u001B[0m \u001B[38;5;28;01melif\u001B[39;00m new_len \u001B[38;5;241m!=\u001B[39m old_len:\n\u001B[0;32m---> 98\u001B[0m     \u001B[38;5;28;01mraise\u001B[39;00m \u001B[38;5;167;01mValueError\u001B[39;00m(\n\u001B[1;32m     99\u001B[0m         \u001B[38;5;124mf\u001B[39m\u001B[38;5;124m\"\u001B[39m\u001B[38;5;124mLength mismatch: Expected axis has \u001B[39m\u001B[38;5;132;01m{\u001B[39;00mold_len\u001B[38;5;132;01m}\u001B[39;00m\u001B[38;5;124m elements, new \u001B[39m\u001B[38;5;124m\"\u001B[39m\n\u001B[1;32m    100\u001B[0m         \u001B[38;5;124mf\u001B[39m\u001B[38;5;124m\"\u001B[39m\u001B[38;5;124mvalues have \u001B[39m\u001B[38;5;132;01m{\u001B[39;00mnew_len\u001B[38;5;132;01m}\u001B[39;00m\u001B[38;5;124m elements\u001B[39m\u001B[38;5;124m\"\u001B[39m\n\u001B[1;32m    101\u001B[0m     )\n",
      "\u001B[0;31mValueError\u001B[0m: Length mismatch: Expected axis has 5 elements, new values have 2 elements"
     ]
    }
   ],
   "source": [
    "df.columns = ['date', 'flow']"
   ],
   "metadata": {
    "collapsed": false
   }
  },
  {
   "cell_type": "code",
   "execution_count": 9,
   "outputs": [],
   "source": [
    "gauge.reset_index(inplace=True)"
   ],
   "metadata": {
    "collapsed": false
   }
  },
  {
   "cell_type": "code",
   "execution_count": 10,
   "outputs": [
    {
     "ename": "ValueError",
     "evalue": "Length mismatch: Expected axis has 5 elements, new values have 2 elements",
     "output_type": "error",
     "traceback": [
      "\u001B[0;31m---------------------------------------------------------------------------\u001B[0m",
      "\u001B[0;31mValueError\u001B[0m                                Traceback (most recent call last)",
      "Cell \u001B[0;32mIn[10], line 1\u001B[0m\n\u001B[0;32m----> 1\u001B[0m \u001B[43mgauge\u001B[49m\u001B[38;5;241;43m.\u001B[39;49m\u001B[43mcolumns\u001B[49m \u001B[38;5;241m=\u001B[39m [\u001B[38;5;124m'\u001B[39m\u001B[38;5;124mdate\u001B[39m\u001B[38;5;124m'\u001B[39m, \u001B[38;5;124m'\u001B[39m\u001B[38;5;124mflow\u001B[39m\u001B[38;5;124m'\u001B[39m]\n",
      "File \u001B[0;32m~/miniconda3/envs/ecuador/lib/python3.9/site-packages/pandas/core/generic.py:6310\u001B[0m, in \u001B[0;36mNDFrame.__setattr__\u001B[0;34m(self, name, value)\u001B[0m\n\u001B[1;32m   6308\u001B[0m \u001B[38;5;28;01mtry\u001B[39;00m:\n\u001B[1;32m   6309\u001B[0m     \u001B[38;5;28mobject\u001B[39m\u001B[38;5;241m.\u001B[39m\u001B[38;5;21m__getattribute__\u001B[39m(\u001B[38;5;28mself\u001B[39m, name)\n\u001B[0;32m-> 6310\u001B[0m     \u001B[38;5;28;01mreturn\u001B[39;00m \u001B[38;5;28;43mobject\u001B[39;49m\u001B[38;5;241;43m.\u001B[39;49m\u001B[38;5;21;43m__setattr__\u001B[39;49m\u001B[43m(\u001B[49m\u001B[38;5;28;43mself\u001B[39;49m\u001B[43m,\u001B[49m\u001B[43m \u001B[49m\u001B[43mname\u001B[49m\u001B[43m,\u001B[49m\u001B[43m \u001B[49m\u001B[43mvalue\u001B[49m\u001B[43m)\u001B[49m\n\u001B[1;32m   6311\u001B[0m \u001B[38;5;28;01mexcept\u001B[39;00m \u001B[38;5;167;01mAttributeError\u001B[39;00m:\n\u001B[1;32m   6312\u001B[0m     \u001B[38;5;28;01mpass\u001B[39;00m\n",
      "File \u001B[0;32mproperties.pyx:69\u001B[0m, in \u001B[0;36mpandas._libs.properties.AxisProperty.__set__\u001B[0;34m()\u001B[0m\n",
      "File \u001B[0;32m~/miniconda3/envs/ecuador/lib/python3.9/site-packages/pandas/core/generic.py:813\u001B[0m, in \u001B[0;36mNDFrame._set_axis\u001B[0;34m(self, axis, labels)\u001B[0m\n\u001B[1;32m    808\u001B[0m \u001B[38;5;250m\u001B[39m\u001B[38;5;124;03m\"\"\"\u001B[39;00m\n\u001B[1;32m    809\u001B[0m \u001B[38;5;124;03mThis is called from the cython code when we set the `index` attribute\u001B[39;00m\n\u001B[1;32m    810\u001B[0m \u001B[38;5;124;03mdirectly, e.g. `series.index = [1, 2, 3]`.\u001B[39;00m\n\u001B[1;32m    811\u001B[0m \u001B[38;5;124;03m\"\"\"\u001B[39;00m\n\u001B[1;32m    812\u001B[0m labels \u001B[38;5;241m=\u001B[39m ensure_index(labels)\n\u001B[0;32m--> 813\u001B[0m \u001B[38;5;28;43mself\u001B[39;49m\u001B[38;5;241;43m.\u001B[39;49m\u001B[43m_mgr\u001B[49m\u001B[38;5;241;43m.\u001B[39;49m\u001B[43mset_axis\u001B[49m\u001B[43m(\u001B[49m\u001B[43maxis\u001B[49m\u001B[43m,\u001B[49m\u001B[43m \u001B[49m\u001B[43mlabels\u001B[49m\u001B[43m)\u001B[49m\n\u001B[1;32m    814\u001B[0m \u001B[38;5;28mself\u001B[39m\u001B[38;5;241m.\u001B[39m_clear_item_cache()\n",
      "File \u001B[0;32m~/miniconda3/envs/ecuador/lib/python3.9/site-packages/pandas/core/internals/managers.py:238\u001B[0m, in \u001B[0;36mBaseBlockManager.set_axis\u001B[0;34m(self, axis, new_labels)\u001B[0m\n\u001B[1;32m    236\u001B[0m \u001B[38;5;28;01mdef\u001B[39;00m \u001B[38;5;21mset_axis\u001B[39m(\u001B[38;5;28mself\u001B[39m, axis: AxisInt, new_labels: Index) \u001B[38;5;241m-\u001B[39m\u001B[38;5;241m>\u001B[39m \u001B[38;5;28;01mNone\u001B[39;00m:\n\u001B[1;32m    237\u001B[0m     \u001B[38;5;66;03m# Caller is responsible for ensuring we have an Index object.\u001B[39;00m\n\u001B[0;32m--> 238\u001B[0m     \u001B[38;5;28;43mself\u001B[39;49m\u001B[38;5;241;43m.\u001B[39;49m\u001B[43m_validate_set_axis\u001B[49m\u001B[43m(\u001B[49m\u001B[43maxis\u001B[49m\u001B[43m,\u001B[49m\u001B[43m \u001B[49m\u001B[43mnew_labels\u001B[49m\u001B[43m)\u001B[49m\n\u001B[1;32m    239\u001B[0m     \u001B[38;5;28mself\u001B[39m\u001B[38;5;241m.\u001B[39maxes[axis] \u001B[38;5;241m=\u001B[39m new_labels\n",
      "File \u001B[0;32m~/miniconda3/envs/ecuador/lib/python3.9/site-packages/pandas/core/internals/base.py:98\u001B[0m, in \u001B[0;36mDataManager._validate_set_axis\u001B[0;34m(self, axis, new_labels)\u001B[0m\n\u001B[1;32m     95\u001B[0m     \u001B[38;5;28;01mpass\u001B[39;00m\n\u001B[1;32m     97\u001B[0m \u001B[38;5;28;01melif\u001B[39;00m new_len \u001B[38;5;241m!=\u001B[39m old_len:\n\u001B[0;32m---> 98\u001B[0m     \u001B[38;5;28;01mraise\u001B[39;00m \u001B[38;5;167;01mValueError\u001B[39;00m(\n\u001B[1;32m     99\u001B[0m         \u001B[38;5;124mf\u001B[39m\u001B[38;5;124m\"\u001B[39m\u001B[38;5;124mLength mismatch: Expected axis has \u001B[39m\u001B[38;5;132;01m{\u001B[39;00mold_len\u001B[38;5;132;01m}\u001B[39;00m\u001B[38;5;124m elements, new \u001B[39m\u001B[38;5;124m\"\u001B[39m\n\u001B[1;32m    100\u001B[0m         \u001B[38;5;124mf\u001B[39m\u001B[38;5;124m\"\u001B[39m\u001B[38;5;124mvalues have \u001B[39m\u001B[38;5;132;01m{\u001B[39;00mnew_len\u001B[38;5;132;01m}\u001B[39;00m\u001B[38;5;124m elements\u001B[39m\u001B[38;5;124m\"\u001B[39m\n\u001B[1;32m    101\u001B[0m     )\n",
      "\u001B[0;31mValueError\u001B[0m: Length mismatch: Expected axis has 5 elements, new values have 2 elements"
     ]
    }
   ],
   "source": [
    "gauge.columns = ['date', 'flow']"
   ],
   "metadata": {
    "collapsed": false
   }
  },
  {
   "cell_type": "code",
   "execution_count": null,
   "outputs": [],
   "source": [
    "gauge"
   ],
   "metadata": {
    "collapsed": false
   }
  },
  {
   "cell_type": "code",
   "execution_count": 12,
   "outputs": [
    {
     "name": "stdout",
     "output_type": "stream",
     "text": [
      "finished step 1\n",
      "Series([], Name: mean_flow, dtype: float64)\n"
     ]
    }
   ],
   "source": [
    "\n",
    "# STEP 1: CALCULATE MEAN MONTHLY FLOWS \"\"\"\n",
    "\n",
    "        # calculate percentage completeness for each year/month\n",
    "groupBy = (gauge.groupby(['month', 'year']).count()['flow'] / gauge.groupby(['month', 'year']).count()[\n",
    "            'date']) * 100\n",
    "groupBy = pd.DataFrame(groupBy)\n",
    "groupBy.rename(columns={0: 'monthly%'}, inplace=True)\n",
    "        # calculate mean flows for each year/month\n",
    "groupBy['mean_flow'] = gauge.groupby(['month', 'year'])['flow'].mean()\n",
    "        # set the mean flow to NAN if there is less than 50 % data\n",
    "        # groupBy.loc[groupBy['monthly%'] < 50,'mean_flow'] = pd.NA\n",
    "groupBy.reset_index(inplace=True)\n",
    "print(\"finished step 1\")\n",
    "#STEP 2: CALCULATE MEAN MONTHLY FLOWS AS A PERCENTAGE OF AVERAGE \"\"\"\n",
    "\n",
    "        # calculate long term average\n",
    "LTA = groupBy[(groupBy['year'] >= stdStart) & (groupBy['year'] <= stdEnd)].groupby(['month'])[\n",
    "            'mean_flow'].mean()\n",
    "print(LTA)"
   ],
   "metadata": {
    "collapsed": false
   }
  },
  {
   "cell_type": "code",
   "execution_count": 14,
   "outputs": [
    {
     "data": {
      "text/plain": "    month  year  monthly%  mean_flow\n0       1  1978     100.0   4.483871\n1       1  1979     100.0   2.548387\n2       1  1980     100.0   0.548387\n3       2  1978     100.0   4.714286\n4       2  1979     100.0   5.928571\n5       2  1980     100.0   0.034483\n6       3  1978     100.0  18.612903\n7       3  1979     100.0   9.129032\n8       3  1980     100.0   0.193548\n9       4  1978     100.0  23.666667\n10      4  1979     100.0  17.300000\n11      4  1980     100.0   2.966667\n12      5  1978     100.0  29.709677\n13      5  1979     100.0  10.419355\n14      5  1980     100.0   7.419355\n15      6  1978       0.0        NaN\n16      6  1979     100.0   7.433333\n17      6  1980     100.0   5.900000\n18      7  1978     100.0   3.451613\n19      7  1979     100.0   3.129032\n20      7  1980     100.0   4.451613\n21      8  1978     100.0   5.580645\n22      8  1979     100.0   3.419355\n23      8  1980     100.0   2.870968\n24      9  1978     100.0   7.333333\n25      9  1979     100.0   2.266667\n26      9  1980     100.0   2.333333\n27     10  1978     100.0   9.161290\n28     10  1979     100.0   0.709677\n29     10  1980       0.0        NaN\n30     11  1978     100.0   8.166667\n31     11  1979     100.0   0.800000\n32     11  1980     100.0   1.300000\n33     12  1978     100.0   5.741935\n34     12  1979     100.0   0.322581\n35     12  1980     100.0   1.000000",
      "text/html": "<div>\n<style scoped>\n    .dataframe tbody tr th:only-of-type {\n        vertical-align: middle;\n    }\n\n    .dataframe tbody tr th {\n        vertical-align: top;\n    }\n\n    .dataframe thead th {\n        text-align: right;\n    }\n</style>\n<table border=\"1\" class=\"dataframe\">\n  <thead>\n    <tr style=\"text-align: right;\">\n      <th></th>\n      <th>month</th>\n      <th>year</th>\n      <th>monthly%</th>\n      <th>mean_flow</th>\n    </tr>\n  </thead>\n  <tbody>\n    <tr>\n      <th>0</th>\n      <td>1</td>\n      <td>1978</td>\n      <td>100.0</td>\n      <td>4.483871</td>\n    </tr>\n    <tr>\n      <th>1</th>\n      <td>1</td>\n      <td>1979</td>\n      <td>100.0</td>\n      <td>2.548387</td>\n    </tr>\n    <tr>\n      <th>2</th>\n      <td>1</td>\n      <td>1980</td>\n      <td>100.0</td>\n      <td>0.548387</td>\n    </tr>\n    <tr>\n      <th>3</th>\n      <td>2</td>\n      <td>1978</td>\n      <td>100.0</td>\n      <td>4.714286</td>\n    </tr>\n    <tr>\n      <th>4</th>\n      <td>2</td>\n      <td>1979</td>\n      <td>100.0</td>\n      <td>5.928571</td>\n    </tr>\n    <tr>\n      <th>5</th>\n      <td>2</td>\n      <td>1980</td>\n      <td>100.0</td>\n      <td>0.034483</td>\n    </tr>\n    <tr>\n      <th>6</th>\n      <td>3</td>\n      <td>1978</td>\n      <td>100.0</td>\n      <td>18.612903</td>\n    </tr>\n    <tr>\n      <th>7</th>\n      <td>3</td>\n      <td>1979</td>\n      <td>100.0</td>\n      <td>9.129032</td>\n    </tr>\n    <tr>\n      <th>8</th>\n      <td>3</td>\n      <td>1980</td>\n      <td>100.0</td>\n      <td>0.193548</td>\n    </tr>\n    <tr>\n      <th>9</th>\n      <td>4</td>\n      <td>1978</td>\n      <td>100.0</td>\n      <td>23.666667</td>\n    </tr>\n    <tr>\n      <th>10</th>\n      <td>4</td>\n      <td>1979</td>\n      <td>100.0</td>\n      <td>17.300000</td>\n    </tr>\n    <tr>\n      <th>11</th>\n      <td>4</td>\n      <td>1980</td>\n      <td>100.0</td>\n      <td>2.966667</td>\n    </tr>\n    <tr>\n      <th>12</th>\n      <td>5</td>\n      <td>1978</td>\n      <td>100.0</td>\n      <td>29.709677</td>\n    </tr>\n    <tr>\n      <th>13</th>\n      <td>5</td>\n      <td>1979</td>\n      <td>100.0</td>\n      <td>10.419355</td>\n    </tr>\n    <tr>\n      <th>14</th>\n      <td>5</td>\n      <td>1980</td>\n      <td>100.0</td>\n      <td>7.419355</td>\n    </tr>\n    <tr>\n      <th>15</th>\n      <td>6</td>\n      <td>1978</td>\n      <td>0.0</td>\n      <td>NaN</td>\n    </tr>\n    <tr>\n      <th>16</th>\n      <td>6</td>\n      <td>1979</td>\n      <td>100.0</td>\n      <td>7.433333</td>\n    </tr>\n    <tr>\n      <th>17</th>\n      <td>6</td>\n      <td>1980</td>\n      <td>100.0</td>\n      <td>5.900000</td>\n    </tr>\n    <tr>\n      <th>18</th>\n      <td>7</td>\n      <td>1978</td>\n      <td>100.0</td>\n      <td>3.451613</td>\n    </tr>\n    <tr>\n      <th>19</th>\n      <td>7</td>\n      <td>1979</td>\n      <td>100.0</td>\n      <td>3.129032</td>\n    </tr>\n    <tr>\n      <th>20</th>\n      <td>7</td>\n      <td>1980</td>\n      <td>100.0</td>\n      <td>4.451613</td>\n    </tr>\n    <tr>\n      <th>21</th>\n      <td>8</td>\n      <td>1978</td>\n      <td>100.0</td>\n      <td>5.580645</td>\n    </tr>\n    <tr>\n      <th>22</th>\n      <td>8</td>\n      <td>1979</td>\n      <td>100.0</td>\n      <td>3.419355</td>\n    </tr>\n    <tr>\n      <th>23</th>\n      <td>8</td>\n      <td>1980</td>\n      <td>100.0</td>\n      <td>2.870968</td>\n    </tr>\n    <tr>\n      <th>24</th>\n      <td>9</td>\n      <td>1978</td>\n      <td>100.0</td>\n      <td>7.333333</td>\n    </tr>\n    <tr>\n      <th>25</th>\n      <td>9</td>\n      <td>1979</td>\n      <td>100.0</td>\n      <td>2.266667</td>\n    </tr>\n    <tr>\n      <th>26</th>\n      <td>9</td>\n      <td>1980</td>\n      <td>100.0</td>\n      <td>2.333333</td>\n    </tr>\n    <tr>\n      <th>27</th>\n      <td>10</td>\n      <td>1978</td>\n      <td>100.0</td>\n      <td>9.161290</td>\n    </tr>\n    <tr>\n      <th>28</th>\n      <td>10</td>\n      <td>1979</td>\n      <td>100.0</td>\n      <td>0.709677</td>\n    </tr>\n    <tr>\n      <th>29</th>\n      <td>10</td>\n      <td>1980</td>\n      <td>0.0</td>\n      <td>NaN</td>\n    </tr>\n    <tr>\n      <th>30</th>\n      <td>11</td>\n      <td>1978</td>\n      <td>100.0</td>\n      <td>8.166667</td>\n    </tr>\n    <tr>\n      <th>31</th>\n      <td>11</td>\n      <td>1979</td>\n      <td>100.0</td>\n      <td>0.800000</td>\n    </tr>\n    <tr>\n      <th>32</th>\n      <td>11</td>\n      <td>1980</td>\n      <td>100.0</td>\n      <td>1.300000</td>\n    </tr>\n    <tr>\n      <th>33</th>\n      <td>12</td>\n      <td>1978</td>\n      <td>100.0</td>\n      <td>5.741935</td>\n    </tr>\n    <tr>\n      <th>34</th>\n      <td>12</td>\n      <td>1979</td>\n      <td>100.0</td>\n      <td>0.322581</td>\n    </tr>\n    <tr>\n      <th>35</th>\n      <td>12</td>\n      <td>1980</td>\n      <td>100.0</td>\n      <td>1.000000</td>\n    </tr>\n  </tbody>\n</table>\n</div>"
     },
     "execution_count": 14,
     "metadata": {},
     "output_type": "execute_result"
    }
   ],
   "source": [
    "groupBy"
   ],
   "metadata": {
    "collapsed": false
   }
  },
  {
   "cell_type": "code",
   "execution_count": null,
   "outputs": [],
   "source": [
    "print(\"hi\")"
   ],
   "metadata": {
    "collapsed": false
   }
  }
 ],
 "metadata": {
  "kernelspec": {
   "display_name": "Python 3",
   "language": "python",
   "name": "python3"
  },
  "language_info": {
   "codemirror_mode": {
    "name": "ipython",
    "version": 2
   },
   "file_extension": ".py",
   "mimetype": "text/x-python",
   "name": "python",
   "nbconvert_exporter": "python",
   "pygments_lexer": "ipython2",
   "version": "2.7.6"
  }
 },
 "nbformat": 4,
 "nbformat_minor": 0
}
