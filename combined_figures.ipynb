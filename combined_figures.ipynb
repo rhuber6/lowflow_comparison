{
 "cells": [
  {
   "cell_type": "code",
   "execution_count": 6,
   "metadata": {
    "collapsed": true
   },
   "outputs": [],
   "source": [
    "from PIL import Image\n",
    "\n",
    "# Load the images\n",
    "image1 = Image.open(\"/Users/rachel1/Downloads/rachel nile/heatmaps/comparison_160266239_July.png\")\n",
    "image2 = Image.open('/Users/rachel1/Downloads/rachel nile/heatmaps/comparison_160205470_November.png')\n",
    "image3 = Image.open('/Users/rachel1/Downloads/rachel nile/heatmaps/comparison_160233531_February.png')\n",
    "\n",
    "# Ensure all images have the same width\n",
    "width = min(image1.width, image2.width, image3.width)\n",
    "image1 = image1.resize((width, int(image1.height * (width / image1.width))), Image.Resampling.LANCZOS)\n",
    "image2 = image2.resize((width, int(image2.height * (width / image2.width))), Image.Resampling.LANCZOS)\n",
    "image3 = image3.resize((width, int(image3.height * (width / image3.width))), Image.Resampling.LANCZOS)\n",
    "\n",
    "# Calculate the total height for the combined image\n",
    "total_height = image1.height + image2.height + image3.height\n",
    "\n",
    "# Create a new blank image\n",
    "combined_image = Image.new(\"RGB\", (width, total_height))\n",
    "\n",
    "# Paste the images into the combined image\n",
    "y_offset = 0\n",
    "for img in [image1, image2, image3]:\n",
    "    combined_image.paste(img, (0, y_offset))\n",
    "    y_offset += img.height\n",
    "\n",
    "# Save the combined image\n",
    "combined_image.save(\"/Users/rachel1/Downloads/rachel nile/combined_image.png\", dpi=(500, 500))\n",
    "combined_image.show()\n"
   ]
  },
  {
   "cell_type": "code",
   "execution_count": null,
   "outputs": [],
   "source": [],
   "metadata": {
    "collapsed": false
   }
  }
 ],
 "metadata": {
  "kernelspec": {
   "display_name": "Python 3",
   "language": "python",
   "name": "python3"
  },
  "language_info": {
   "codemirror_mode": {
    "name": "ipython",
    "version": 2
   },
   "file_extension": ".py",
   "mimetype": "text/x-python",
   "name": "python",
   "nbconvert_exporter": "python",
   "pygments_lexer": "ipython2",
   "version": "2.7.6"
  }
 },
 "nbformat": 4,
 "nbformat_minor": 0
}
